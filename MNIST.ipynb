{
  "nbformat": 4,
  "nbformat_minor": 0,
  "metadata": {
    "colab": {
      "name": "lesson7.ipynb",
      "provenance": []
    },
    "kernelspec": {
      "name": "python3",
      "display_name": "Python 3"
    },
    "accelerator": "GPU"
  },
  "cells": [
    {
      "cell_type": "markdown",
      "metadata": {
        "id": "QoslS0pYVIfG",
        "colab_type": "text"
      },
      "source": [
        "<b> Модель нейронной сети на базе данных MNIST</b>"
      ]
    },
    {
      "cell_type": "code",
      "metadata": {
        "id": "rQ9-HJglVEeq",
        "colab_type": "code",
        "colab": {}
      },
      "source": [
        "from tensorflow.keras.datasets import mnist # database MNIST\n",
        "from tensorflow.keras.models  import Sequential # Последовательная модель\n",
        "from tensorflow.keras.layers import Dense # Полносвязные слои\n",
        "from tensorflow.keras import utils # Для преобразования выходных данных\n",
        "from tensorflow.keras.preprocessing import image # работа с изображениями\n",
        "from google.colab import files #для загрузки на юпетер ноутбук/ с юпитер ноутбука\n",
        "from PIL import Image # Для работы с изображениями\n",
        "import numpy as np\n",
        "import matplotlib.pyplot as plt\n",
        "\n"
      ],
      "execution_count": null,
      "outputs": []
    },
    {
      "cell_type": "markdown",
      "metadata": {
        "id": "gtwDHc6ObPM-",
        "colab_type": "text"
      },
      "source": [
        "<b>Подгрузка и преобразование набора данных</b>"
      ]
    },
    {
      "cell_type": "code",
      "metadata": {
        "id": "NvDYINWPXcZ8",
        "colab_type": "code",
        "colab": {}
      },
      "source": [
        "(x_train_org, y_train_org), (x_test_org, y_test_org) = mnist.load_data() # подгружаем датасет"
      ],
      "execution_count": null,
      "outputs": []
    },
    {
      "cell_type": "code",
      "metadata": {
        "id": "8DgxrRy-XzVs",
        "colab_type": "code",
        "colab": {
          "base_uri": "https://localhost:8080/",
          "height": 265
        },
        "outputId": "7d72cce7-a65c-4d47-8e80-d1b0ab6151b2"
      },
      "source": [
        "n = 5324 \n",
        "img = Image.fromarray(x_train_org[n], mode = 'P') # Из массива np создаем картинку и интепретируем ее\n",
        "plt.imshow(img)\n",
        "plt.show()"
      ],
      "execution_count": null,
      "outputs": [
        {
          "output_type": "display_data",
          "data": {
            "image/png": "[encoded data removed]",
            "text/plain": [
              "<Figure size 432x288 with 1 Axes>"
            ]
          },
          "metadata": {
            "tags": [],
            "needs_background": "light"
          }
        }
      ]
    },
    {
      "cell_type": "code",
      "metadata": {
        "id": "rBZMkS0aYs6T",
        "colab_type": "code",
        "colab": {
          "base_uri": "https://localhost:8080/",
          "height": 33
        },
        "outputId": "20c7b6af-559c-44d4-9863-201000c4a793"
      },
      "source": [
        "y_train_org[n]"
      ],
      "execution_count": null,
      "outputs": [
        {
          "output_type": "execute_result",
          "data": {
            "text/plain": [
              "4"
            ]
          },
          "metadata": {
            "tags": []
          },
          "execution_count": 6
        }
      ]
    },
    {
      "cell_type": "code",
      "metadata": {
        "id": "lXgbCqoTZBR6",
        "colab_type": "code",
        "colab": {}
      },
      "source": [
        "x_train = x_train_org.reshape(60000, 784) # меняем размерность 60000 цифр, каждая из 784 значений (28x28 пикселей изображения)\n",
        "x_test = x_test_org.reshape(10000, 784)"
      ],
      "execution_count": null,
      "outputs": []
    },
    {
      "cell_type": "code",
      "metadata": {
        "id": "fn7P1PxPZb06",
        "colab_type": "code",
        "colab": {}
      },
      "source": [
        "x_train = x_train.astype('float32') # меняем тип значений\n",
        "x_train = x_train / 255 # нормируем их в значения от 0 до 1, так как ранее массив содержал значения от 0 до 255, где  0 -идеально черный пиксель, 255 -идеально белый"
      ],
      "execution_count": null,
      "outputs": []
    },
    {
      "cell_type": "code",
      "metadata": {
        "id": "vzS6TpNmadBE",
        "colab_type": "code",
        "colab": {}
      },
      "source": [
        "print(y_train_org[n])"
      ],
      "execution_count": null,
      "outputs": []
    },
    {
      "cell_type": "code",
      "metadata": {
        "id": "3s7Z1_OtajuF",
        "colab_type": "code",
        "colab": {}
      },
      "source": [
        "y_train = utils.to_categorical(y_train_org, 10) # создаем новый тип данных, категориальный, где у нас будет 10 значений, и порядковый номер соотвествует цифре\n",
        "# так как у нас будет 10 выходных нейронов, нам будет это выгодно"
      ],
      "execution_count": null,
      "outputs": []
    },
    {
      "cell_type": "code",
      "metadata": {
        "id": "dF8YbkS8auJp",
        "colab_type": "code",
        "colab": {}
      },
      "source": [
        "print(y_train[n])"
      ],
      "execution_count": null,
      "outputs": []
    },
    {
      "cell_type": "markdown",
      "metadata": {
        "id": "VlVB05bBbHYe",
        "colab_type": "text"
      },
      "source": [
        "<b> Построение нейронки</b>"
      ]
    },
    {
      "cell_type": "code",
      "metadata": {
        "id": "A39FA7n7bGi0",
        "colab_type": "code",
        "colab": {}
      },
      "source": [
        "model = Sequential() # Создание последовательной модели"
      ],
      "execution_count": null,
      "outputs": []
    },
    {
      "cell_type": "code",
      "metadata": {
        "id": "HQ7wK495bf19",
        "colab_type": "code",
        "colab": {}
      },
      "source": [
        "model.add(Dense(800, input_dim=784, activation='relu')) #создание скрытого полносвязного слоя с 800 нейронами, 784 входных значений на каждый нейрон, и функцией активации relu\n",
        "model.add(Dense(10, activation='softmax')) # создание выходного слоя нейронов, с 10 нейронами, и функцией активации - 'softmax'\n",
        "#Внимание вопрос на понимание, если модель у нас полносвязная (каждый нейрон текущего слоя, имеет связь с каждым нейроном прошлого слоя),\n",
        "#то сколько входных значений у нас на выходном слое?   \n",
        "#Ответ: 800"
      ],
      "execution_count": null,
      "outputs": []
    },
    {
      "cell_type": "code",
      "metadata": {
        "id": "hySzQqk8ch6U",
        "colab_type": "code",
        "colab": {}
      },
      "source": [
        "model.compile(loss='categorical_crossentropy', optimizer='adam', metrics=['accuracy']) #optimizer - процедура обучения, loss - функция, которую мы отпимизируем\n",
        "#metrics - параметр, по которому будем отслеживать наше обучение\n",
        "\n"
      ],
      "execution_count": null,
      "outputs": []
    },
    {
      "cell_type": "code",
      "metadata": {
        "id": "OH4DwCQVdSyK",
        "colab_type": "code",
        "colab": {}
      },
      "source": [
        "print(model.summary()) # любуемся нашей моделью и смотрим сколько у нее будет параметров (весов)"
      ],
      "execution_count": null,
      "outputs": []
    },
    {
      "cell_type": "code",
      "metadata": {
        "id": "2dSyzRi7djQl",
        "colab_type": "code",
        "colab": {
          "base_uri": "https://localhost:8080/",
          "height": 870
        },
        "outputId": "c591bdfd-e5df-40c8-b51a-2aaea4270f9f"
      },
      "source": [
        "model.fit(x_train, y_train, batch_size=200, epochs=25, validation_split = 0.2, verbose=1)#обучение модели"
      ],
      "execution_count": null,
      "outputs": [
        {
          "output_type": "stream",
          "text": [
            "Epoch 1/25\n",
            "240/240 [==============================] - 2s 6ms/step - loss: 0.3089 - accuracy: 0.9143 - val_loss: 0.1667 - val_accuracy: 0.9508\n",
            "Epoch 2/25\n",
            "240/240 [==============================] - 1s 5ms/step - loss: 0.1279 - accuracy: 0.9625 - val_loss: 0.1172 - val_accuracy: 0.9671\n",
            "Epoch 3/25\n",
            "240/240 [==============================] - 1s 5ms/step - loss: 0.0827 - accuracy: 0.9764 - val_loss: 0.0979 - val_accuracy: 0.9709\n",
            "Epoch 4/25\n",
            "240/240 [==============================] - 1s 5ms/step - loss: 0.0591 - accuracy: 0.9831 - val_loss: 0.0845 - val_accuracy: 0.9747\n",
            "Epoch 5/25\n",
            "240/240 [==============================] - 1s 5ms/step - loss: 0.0422 - accuracy: 0.9885 - val_loss: 0.0767 - val_accuracy: 0.9771\n",
            "Epoch 6/25\n",
            "240/240 [==============================] - 1s 5ms/step - loss: 0.0320 - accuracy: 0.9917 - val_loss: 0.0733 - val_accuracy: 0.9772\n",
            "Epoch 7/25\n",
            "240/240 [==============================] - 1s 5ms/step - loss: 0.0230 - accuracy: 0.9942 - val_loss: 0.0771 - val_accuracy: 0.9772\n",
            "Epoch 8/25\n",
            "240/240 [==============================] - 1s 5ms/step - loss: 0.0182 - accuracy: 0.9958 - val_loss: 0.0722 - val_accuracy: 0.9783\n",
            "Epoch 9/25\n",
            "240/240 [==============================] - 1s 5ms/step - loss: 0.0125 - accuracy: 0.9977 - val_loss: 0.0733 - val_accuracy: 0.9793\n",
            "Epoch 10/25\n",
            "240/240 [==============================] - 1s 5ms/step - loss: 0.0095 - accuracy: 0.9983 - val_loss: 0.0743 - val_accuracy: 0.9793\n",
            "Epoch 11/25\n",
            "240/240 [==============================] - 1s 5ms/step - loss: 0.0074 - accuracy: 0.9988 - val_loss: 0.0717 - val_accuracy: 0.9796\n",
            "Epoch 12/25\n",
            "240/240 [==============================] - 1s 5ms/step - loss: 0.0051 - accuracy: 0.9995 - val_loss: 0.0786 - val_accuracy: 0.9788\n",
            "Epoch 13/25\n",
            "240/240 [==============================] - 1s 5ms/step - loss: 0.0042 - accuracy: 0.9995 - val_loss: 0.0730 - val_accuracy: 0.9809\n",
            "Epoch 14/25\n",
            "240/240 [==============================] - 1s 5ms/step - loss: 0.0035 - accuracy: 0.9997 - val_loss: 0.0725 - val_accuracy: 0.9816\n",
            "Epoch 15/25\n",
            "240/240 [==============================] - 1s 5ms/step - loss: 0.0021 - accuracy: 0.9999 - val_loss: 0.0763 - val_accuracy: 0.9808\n",
            "Epoch 16/25\n",
            "240/240 [==============================] - 1s 5ms/step - loss: 0.0014 - accuracy: 1.0000 - val_loss: 0.0756 - val_accuracy: 0.9816\n",
            "Epoch 17/25\n",
            "240/240 [==============================] - 1s 5ms/step - loss: 0.0011 - accuracy: 1.0000 - val_loss: 0.0774 - val_accuracy: 0.9813\n",
            "Epoch 18/25\n",
            "240/240 [==============================] - 1s 5ms/step - loss: 0.0011 - accuracy: 1.0000 - val_loss: 0.0766 - val_accuracy: 0.9816\n",
            "Epoch 19/25\n",
            "240/240 [==============================] - 1s 5ms/step - loss: 0.0010 - accuracy: 1.0000 - val_loss: 0.0778 - val_accuracy: 0.9822\n",
            "Epoch 20/25\n",
            "240/240 [==============================] - 1s 5ms/step - loss: 0.0046 - accuracy: 0.9987 - val_loss: 0.1270 - val_accuracy: 0.9709\n",
            "Epoch 21/25\n",
            "240/240 [==============================] - 1s 5ms/step - loss: 0.0307 - accuracy: 0.9892 - val_loss: 0.1059 - val_accuracy: 0.9754\n",
            "Epoch 22/25\n",
            "240/240 [==============================] - 1s 5ms/step - loss: 0.0074 - accuracy: 0.9977 - val_loss: 0.0872 - val_accuracy: 0.9787\n",
            "Epoch 23/25\n",
            "240/240 [==============================] - 1s 5ms/step - loss: 0.0023 - accuracy: 0.9995 - val_loss: 0.0827 - val_accuracy: 0.9817\n",
            "Epoch 24/25\n",
            "240/240 [==============================] - 1s 5ms/step - loss: 7.2664e-04 - accuracy: 1.0000 - val_loss: 0.0804 - val_accuracy: 0.9821\n",
            "Epoch 25/25\n",
            "240/240 [==============================] - 1s 5ms/step - loss: 4.1756e-04 - accuracy: 1.0000 - val_loss: 0.0824 - val_accuracy: 0.9816\n"
          ],
          "name": "stdout"
        },
        {
          "output_type": "execute_result",
          "data": {
            "text/plain": [
              "<tensorflow.python.keras.callbacks.History at 0x7f68e5ba1080>"
            ]
          },
          "metadata": {
            "tags": []
          },
          "execution_count": 16
        }
      ]
    },
    {
      "cell_type": "markdown",
      "metadata": {
        "id": "xs8U6X_9erzo",
        "colab_type": "text"
      },
      "source": [
        "<b> Сохранение модели на компьютер</b>"
      ]
    },
    {
      "cell_type": "code",
      "metadata": {
        "id": "SelpHiTHequg",
        "colab_type": "code",
        "colab": {}
      },
      "source": [
        "model.save(\"MNIST_Sequential_dense.h5\") #сохранение модели на сервер гугла"
      ],
      "execution_count": null,
      "outputs": []
    },
    {
      "cell_type": "code",
      "metadata": {
        "id": "YOHQ7BDYe7vT",
        "colab_type": "code",
        "colab": {}
      },
      "source": [
        "!ls # Из линукса"
      ],
      "execution_count": null,
      "outputs": []
    },
    {
      "cell_type": "code",
      "metadata": {
        "id": "XRYCRgPqfmI5",
        "colab_type": "code",
        "colab": {}
      },
      "source": [
        ""
      ],
      "execution_count": null,
      "outputs": []
    },
    {
      "cell_type": "code",
      "metadata": {
        "id": "aLhq4FGNfBgb",
        "colab_type": "code",
        "colab": {}
      },
      "source": [
        "files.download('MNIST_Sequential_dense.h5') # загрузка сохраненного файла с сервера гугла"
      ],
      "execution_count": null,
      "outputs": []
    },
    {
      "cell_type": "markdown",
      "metadata": {
        "id": "rXHEQctGfb-i",
        "colab_type": "text"
      },
      "source": [
        "<b>Чтобы использовать на своем компьютере</b><br>\n",
        "from keras.models import load_model<br>\n",
        "model=load_model('MNIST_Sequential_dense.h5')<br>"
      ]
    },
    {
      "cell_type": "code",
      "metadata": {
        "id": "RW-ocH2Hf43K",
        "colab_type": "code",
        "colab": {
          "base_uri": "https://localhost:8080/",
          "height": 33
        },
        "outputId": "05e36d0f-5504-418c-e202-1952e52cc55d"
      },
      "source": [
        "n_new = 1112\n",
        "y_test_org[1112]"
      ],
      "execution_count": null,
      "outputs": [
        {
          "output_type": "execute_result",
          "data": {
            "text/plain": [
              "4"
            ]
          },
          "metadata": {
            "tags": []
          },
          "execution_count": 113
        }
      ]
    },
    {
      "cell_type": "code",
      "metadata": {
        "id": "-a5q_ltof-Lk",
        "colab_type": "code",
        "colab": {
          "base_uri": "https://localhost:8080/",
          "height": 265
        },
        "outputId": "f8ef920f-28c6-4498-fa0f-fbb081e384af"
      },
      "source": [
        "img = Image.fromarray(x_test_org[n_new], mode='P') #проверка одного значения из тестового слоя (на занятии мы нашли что на 1112 значении модель ошибается, хотя точность была 98 процентов)\n",
        "plt.imshow(img)\n",
        "plt.show()"
      ],
      "execution_count": null,
      "outputs": [
        {
          "output_type": "display_data",
          "data": {
            "image/png": "[encoded data removed]",
            "text/plain": [
              "<Figure size 432x288 with 1 Axes>"
            ]
          },
          "metadata": {
            "tags": [],
            "needs_background": "light"
          }
        }
      ]
    },
    {
      "cell_type": "code",
      "metadata": {
        "id": "lj3jsiWogSzd",
        "colab_type": "code",
        "colab": {}
      },
      "source": [
        "x = x_test[n_new]\n",
        "x = np.expand_dims(x, axis=0)\n",
        "x"
      ],
      "execution_count": null,
      "outputs": []
    },
    {
      "cell_type": "code",
      "metadata": {
        "id": "-Eklnz02gldK",
        "colab_type": "code",
        "colab": {
          "base_uri": "https://localhost:8080/",
          "height": 67
        },
        "outputId": "83981333-68e7-41ce-c2a7-c87c1ff3b1cc"
      },
      "source": [
        "prediction = model.predict(x) #предсказываем число\n",
        "prediction"
      ],
      "execution_count": null,
      "outputs": [
        {
          "output_type": "execute_result",
          "data": {
            "text/plain": [
              "array([[8.05156120e-08, 3.03037452e-18, 1.02839515e-07, 4.54903643e-10,\n",
              "        3.89640220e-04, 6.49916590e-13, 9.99610245e-01, 3.26032062e-14,\n",
              "        2.63362958e-17, 7.55215965e-17]], dtype=float32)"
            ]
          },
          "metadata": {
            "tags": []
          },
          "execution_count": 116
        }
      ]
    },
    {
      "cell_type": "code",
      "metadata": {
        "id": "8ZTcIud4iBBI",
        "colab_type": "code",
        "colab": {
          "resources": {
            "http://localhost:8080/nbextensions/google.colab/files.js": {
              "data": "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",
              "ok": true,
              "headers": [
                [
                  "content-type",
                  "application/javascript"
                ]
              ],
              "status": 200,
              "status_text": ""
            }
          },
          "base_uri": "https://localhost:8080/",
          "height": 111
        },
        "outputId": "ad80b004-9d80-41b3-bf80-11e889f27de3"
      },
      "source": [
        "files.upload() #рисуем сами ПРИМЕРНО КВАДРАТНЫЙ(смотрите занятие почему) рисунок, и погружаем его сюда"
      ],
      "execution_count": null,
      "outputs": [
        {
          "output_type": "display_data",
          "data": {
            "text/html": [
              "\n",
              "     <input type=\"file\" id=\"files-23d7ae56-2cbc-4da3-9fea-80f280cc25d3\" name=\"files[]\" multiple disabled />\n",
              "     <output id=\"result-23d7ae56-2cbc-4da3-9fea-80f280cc25d3\">\n",
              "      Upload widget is only available when the cell has been executed in the\n",
              "      current browser session. Please rerun this cell to enable.\n",
              "      </output>\n",
              "      <script src=\"/nbextensions/google.colab/files.js\"></script> "
            ],
            "text/plain": [
              "<IPython.core.display.HTML object>"
            ]
          },
          "metadata": {
            "tags": []
          }
        },
        {
          "output_type": "stream",
          "text": [
            "Saving 6.png to 6.png\n"
          ],
          "name": "stdout"
        },
        {
          "output_type": "execute_result",
          "data": {
            "text/plain": [
              "{'6.png': b'\\x89PNG\\r\\n\\x1a\\n\\x00\\x00\\x00\\rIHDR\\x00\\x00\\x02\\xed\\x00\\x00\\x02\\xd4\\x08\\x02\\x00\\x00\\x000\\xa9\\x9bU\\x00\\x00\\x00\\x01sRGB\\x00\\xae\\xce\\x1c\\xe9\\x00\\x00\\x00\\x04gAMA\\x00\\x00\\xb1\\x8f\\x0b\\xfca\\x05\\x00\\x00\\x00\\tpHYs\\x00\\x00\\x12t\\x00\\x00\\x12t\\x01\\xdef\\x1fx\\x00\\x00N\\xc6IDATx^\\xed\\xdd\\xdb\\xc2#!nh\\xe1d\\xbf\\xff;g\\xd3\\x8d\\xa7\\x86\\x16 \\xc4\\xb1\\xa0X\\xdfE\\xe6\\xb7\\xcd\\xb9@\\xc8\\xeeI\\xf2?\\x00\\x00\\x00\\x00\\x00\\x00\\x00\\x00\\x00\\x00\\x00\\x00\\x00\\x00\\x00\\x00\\x00\\x00\\x00\\x00\\x00\\x00\\x00\\x00\\x00\\x00\\x00\\x00\\x00\\x00\\x00\\x00\\x00\\x00\\x00\\x00\\x00\\x00\\x00\\x00\\x00\\x00\\x00\\x00\\x00\\x00\\x00\\x00\\x00\\x00\\x00\\x00\\x00\\x00\\x00\\x00\\x00\\x00\\x00\\x00\\x00\\x00\\x00\\x00\\x00\\x00\\x00\\x00\\x00\\x00\\x00\\x00\\x00\\x00\\x00\\x00\\x00\\x00\\x00\\x00\\x00\\x00\\x00\\x00\\x00\\x00\\x00\\x00\\x00\\x00\\x00\\x00\\x00\\x00\\x00\\x00\\x00\\x00\\x00\\x00\\x00\\x00\\x00\\x00\\x00\\x00\\x00`\\x1b\\xff\\xfb\\xfbO\\x00\\x17\\xfb\\xbf\\xff\\xfb\\xbf\\xdf_\\x1b\\xfb\\xdf\\xff%^\\x01\\x90\\x88\\x0b\\xc0\\xd5\\x8e\\xc8`\\x04\\x12\\x1a\\x00\\x0f\\xc2\\x01p$K\\xfe\\xa1\\xdf\\xf7\\'f0\\x02\\t\\r\\x00\\xa2\\x00p\\x98\\x0f\\xe4\\x1fc\\x91\\xcd\\x007\\xe3\\xfc\\x03\\'Y\\x93\\xc4\\xec\\x99\\x19(s\\'\\x95\\x01\\xae\\xc5\\xe1\\x07\\x0e\\xf0\\xe2o0\\xbb\\xa5\\x08d3\\x00B\\x1c{`w\\xb9\\x9b[\\\\\\xdb\\x0br\\x9d\\xad\\x12\\x85\\xe4|Ie\\x80\\xdbp\\xe6\\x81}\\xd9\\x7f{\\xa8Jb\\xe2\\xcb\\xbe!\\x07\\xda$c\\x88GN*\\x03\\\\\\x85\\x03\\x0fl*\\x97[\\xd4f0\\xb5\\xf7\\xfaq9Mr\\xc0d3\\xc0%8\\xea\\xc0v\\xec\\x17\\xb31\\xd7ivJNC*\\x03\\\\\\x8bs\\x0e\\xec\\xa5x%+\\xb9\\xc5\\xd4\\x9b\\xbb!\\xa7\\xd9\\r\\x99\\r\\xf0=\\x9cj`#\\xdb&1\\x029\\r\\x80Mp\\x92\\x81-\\x143\\x18gx\\x12\\xf3\\x81t\\xa4\\x1f\\t\\rp4\\x0e0\\xf0\\xbe\\x9e$\\xa6\\xe1\\x1a&}Q\\x90\\xd6\\x00g\\xe1\\xc4\\x02o\\xb2d0N\\\\\\x8c\\xf4\\xc5).B\\xff\\x94Ik\\x80\\xcdqD\\x81w\\xe4\\xaeXqq\\x1a\\x13\\x9d\\xa2=\\x93\\x187\\x91y\\x03{V\\x89l\\x06\\xf80\\x0e\\'\\xf0\\x82}\\x92\\x98!7\\xf4\\x90\\\\\\xc4\\x8ddH;\\x93\\x90\\xca\\x00{\\xe2d\\x02K\\xf5d0\\xce\\xa8$f\\xd4\\xad\\xacd\\x1e\\xc9.,\\x99\\x8a\\xafh)9\\x90\\xa5\\xd3Q\\x8b\\x06` \\x8e%\\xb0\\x8e1\\xa50\\x16\\xb3\\x10M\\x8d\\xba\\x89;\\xef{\\xbd\\xbag\\x19\\xaa\\xa5\\x1d\\xbbd\\x8f\\x03\\x9f\\x05\\x80\\x198\\x8d\\xc0\"\\xf1\\x8d\\x18_\\x87\\xb9\\x8b\\xb9\\xed\\xe2\\x14\\xad\\xf5\\xdf\\xbe\\xc5\\xbc\\xa1\\xaa\\x8b\\xb1\\xad\\xc5\\x8a\\xedw\\xea_O\\x00\\xfd8\\x87\\xc0\\n\\xf1\\x9d\\x1a\\xdf\\x82\\xc9{\\xb7\\xf9\\xb2\\x14\\xad\\xcd\\xce\\t\\xe6\\xb5?5](\\xceK7ul\\x00,8\\x84\\xc0,Uws\\xb2p\\xf35)Z\\xeb\\xb9n\\xf5\\x9b\\xbe\\xa1\\xe5\\xce\\xd4!g\\xd4Z\\xd5\\xeaY[\\x00\\xfd8\\x81\\xc0x\\xb5w\\x7f\\\\~`\\xe61\\xe9\\x82\\xafm\\xb63]\\x98\\xc7M\\xa4\\x7fl=\\xcf\\x0b@\\x0f\\xce\\x1e0R\\xc3\\xdd\\x1fW\\xe9\\xb9\\x14Ek\\rM5L!\\xa7??x\\xdd3\\xdf\\xe2\\\\z\\x9e\\x1a\\x80f\\x1c<`\\x8c\\xe6{\\xae?\\xf3xt6\\xa5Oalk\\x07\\x89\\'\\xaeL\\xad\\xe7\\xf1\\x01h\\xc0\\x91\\x03\\xbat\\xde\\xfd\\x9d\\x99\\x87\\x10\\xb6V\\xdb\\xb5\\xa2aT\\x9d\\xcb\"$[\\xd3\\x1b\\xb1\\xcf\\xce\"\\xd7\\x97\\xd2K\\xc3\\xa2\\x01h\\xc0I\\x03Z\\x14\\xafI\\xcb5&\\x1a\\xe9\\xbc\\xf9\\x8c\\xad\\xd9/\\xf8\\xe6\\xf1$\\xbb\\x18;;\\xaf\\xb3M\\xcf\\xbe N\\xdc\\xa3^}\\xc8\\x08\\x01(8c@\\x9d\\xe2\\xb5g\\xbc\\xbaD;\\xfd\\x17^\\xd8`\\xae5\\xe3\\x9d\\xdd3\\x98\\xe1\\xf3\\n\\xc5\\xe3\\x1f\\xd8\\xbeqq\\x1c\\xd1i\\xb1\\xe2\\xd8E\\x00\\x10\\xe2t\\x01\\x15\\xf4\\x1b\\xab\\xea\\xba\\x1a{\\xdf\\x17[3^\\xd2=\\xc3\\x88\\xbb\\x98q\\x7f\\'\\'\\xb2\\xac#\\xafayg\\x8c\\x10\\x80\\xc3\\xd1\\x02L\\xaan\\xb5\"\\xd1Z\\xe7%\\xa7\\xb7\\x96\\x1b\\xf9\\xc0\\x9b5\\xd9\\xc5\\xbc\\x9b{\\xcf\\xeer\\xeb\\xfc\\x987B\\xe0f\\x9c+\\xa0l\\xe0\\xc5\\x197\\xd5\\x7f\\xbd\\x85m\\xfa\\xd6\\xf4;u\\xe0\\x85\\x9a\\xebh\\xc1\\x9d=c%s\\x92\\xd3\\x8c\\xbb\\xd3\\x97\\xdd[\\xb02\\xc0U8Q@\\xc1\\xc0\\xfbr\\xf8\\xd5k\\xb98\\x85Q\\xf7\\xa8\\xd2\\xf5\\xb2\\xab:9\\x86I\\xbd\\xebK\\xfdtjy\"\\xcb\\xd6\\x07\\xb8\\x01\\xc7\\t\\xc8\\x1a{M\\xc6\\xadu\\xdeg\\x96+34\\xe4\\xfa4^\\xe7\\xcb\\x8c}FE\\x96\\xe9\\x8b2\\xee\\xcd\\xb8\\xd6\\xfa\\x85\\x02\\xbe\\x8a\\xb3\\x04H\\xca]\\xd5|\\xfd\\x0c\\xbc\\xc9\\xf4\\xab\\xf4-\\xef^\\xcc+\\x13\\x05}\\xfd]\\xbf\\xa2\\x80\\x1fI\\xb2\\xd6\\xbb\\x8b\\x06|\\x03\\xa7\\x08\\xf8\\x87rK5\\xdf:\\xb5\\xb7\\xac~S\\xeeL\\xb9\\xb3k\\xd5\\xaev\\xed\"\\xf7(n\\x12Q@Y\\x96y\\x83\\x04.\\xc1\\x11\\x02\\xfe+w?\\xf5\\\\6U\\xf7\\xabrA\\xa2\\xf8\\x14\\xaa\\x96\\xba\\x93\\xf2\\xa4|\\xa7\\xa2\\xc03\\x92\\x95\\x83\\x04n\\xc0\\xf9\\x01\\xfek\\xf8\\x1d\\x93\\xbb\\xcc\\x92\\x94\\xab\\x11\\xb1\\xdcb\\xaeL\\x14r\\x8f\\xcc\\xf5\\xa8<\\xfa\\x95#\\x04>\\x8f\\xc3\\x03\\xfc1\\xe3jQn\\xb2P\\xee.,\\x9at\\xf9\\xe5\\xc6\\x93\\xec\\xaey\\xf0\\xa3\\x18G5i\\xad\\x1c\\xfb\\n\\x84cH\\xd6\\x9a7H\\xe0\\xc386\\xc0\\x94kO\\xb4\\x197h\\xbf\\xff\\x92&\\xddy\\xc6\\xfb\\xb5y\\xf0\\xf6a\\xdb\\xbbH\\xb6i\\x9c\\xc8\\x10mC\\xcd\\xd5\\x9a4H\\xe0\\xab80\\xb8]|\\x9d\\xf4_$\\xa2M\\xd1\\xa0\\xfd\\xdas\\\\\\xdd\\x19#\\x8c\\x19\\xafU\\xcb\\xe0\\x93c\\x0e5\\x8c\\xbf\\xd8o\\xdcf\\xb2\\xca\\x8c\\xa5\\xf3,+\\xe3\\x18\\xd7s\\xde8\\x81\\x8f\\xe1\\xa8\\xe0j\\xf1-\\xd2\\x7f\\x7f\\x886\\x9f\\x06\\x8d\\xf7\\x9c\\x13\\x8ea\\xc6\\x08\\x05\\xe3U\\xaa\\x8f?7*\\xa5V\\xcfDz\\xc6<|\\x01\\x1f\\xfa\\x12yq\\xef\\xc6\\xb9\\x00H\\xe2\\x9c\\xe0^\\xf1\\xfd\\xd1\\x7fs\\x886]\\x83\\x96\\xbb\\xcdIv=c\\x84!\\xfb\\r\\xaa\\xcc\\xc22\\xa4\\xce\\xeaI\\xfa\\xc2\\x86\\xcd\\xce^\\xc6\\x90>*/\\xd9{\\xae\\xe2\\xbc\\xa1\\x02\\xdf\\xc0\\t\\xc1\\xa5f\\xdcm\\x96;,\\xc9x\\xb1\\r\\xbc\\xd2\\x94\\xa1\\x8a^\\x06\\xde\\xaf\\xf6N\\xed\\x9a\\'2p1c\\xca\\xa8\\xbc\\\\\\xef\\xc9\\x8aS\\x87\\n\\x9c\\x8e\\xe3\\x81\\x1bM\\xba\\xd2\\x8a\\xb7WR\\xb2\\xf7\\xb8\\xa9!\\x83\\xd4G\\xf8ta,\\xd6Fi\\xbc\\xb9ec\\x9b\\xa2\\xd8\\x90%\\xcd\\xd1\\xd7\\xd0Qz\\x8f\\xebN\\x1d*p4\\xce\\x06\\xae3\\xe92+\\xde[\\x8e\\xeb\\xcb\\xd8\\xfb\\xf0A\\xea\\xc3{\\xda7\\x16\\xeb\\xa7t\\xd4\\xdcK\\xae\\xcd\\xb0\\xc1\\xe1\\x0b\\xab\\xd0\\x17\\xd3Qz\\x8f\\xebN\\x1d*p.\\x0e\\x06\\xee2\\xe9\\x1a\\xd3o\\xac\\xa7\\x17c\\xefc\\x07\\xd96\\xb6\\xd8\\xa8\\xb5\\n\\x19\\xc7V+\\xd9\\xacom\\xec\\xdaZ(s,\\xf6\\xbe~\\xb4\\xc0q8\\x15\\xb8\\xc8\\x8c[A\\xb9\\xa5\\x9c\\xb0\\x0bc\\xefc\\x07\\x99\\x1b\\xde\\xd3\\xac>~o\\xc8B)\\xeckh\\xa7L|\\xec\\n[(\\x13,\\xf6\\xbe~\\xb4\\xc0Y8\\x12\\xb8\\xc8\\xc0+A\\xb9\\x99\\x9c\\xb8e{\\xd7a\\xc9\\x19#|\\xda\\xac\\x9d\\xc2l\\xc3\\xc7\\xa37\\x18Z3\\xd9\\xe2\\x13\\xc9\\x11\\x15\\xd7?\\x1a`g\\x9c\\x07\\xdcb\\xd4e\\xd0v\\xdd\\x1a{\\x1f2\\xc8\\xdc\\x08}k\\xfa\\xf8\\x9d\\xe6\\x95\\x19b\\xf8\\xf0\\x8a\\rzkf\\x9d\\x1c\\x8c\\xa5kQ\\xf1\\xddg\\x04l\\x85\\xc3\\x80+\\x0c\\xb9\\x06\\x9a\\xafX{\\xefa\\xc9I\\x83\\xcc\\xd1\\xbbknv\\x99\\xfe\\xf1\\xb7-x\\x83\\xe4`\\x8a\\xbd\\x8bZ\\xcbF\\x0bl\\x8e\\x93\\x80\\xef\\xeb\\xbf\\x00\\x8c\\xb7x\\xdcr\\\\Q\\xe9\\xbds\\x9c\\xc6A\\xc6r\\x1d57\\xf8.\\xfb\\n\\xc7j\\xd7\\xbcYr$\\xc5\\xde;w\\x08\\xf0I\\x1c\\x03|\\\\g\\xe8\\xb7\\xdf\\xe5q\\xcbq]\\xbd\\xf7\\xb0\\xfc\\xbcq\\x86D/m\\x8dl\\xc8\\xbe\\xce\\xb1\\xda\\x95o\\x96\\x1bF\\xd5\\xe0\\x97\\x8d\\x16\\xd8\\x16g\\x00_\\x16_\\x15Uq_\\xb9i\\x8a\\xd7Im\\xd7=\\xf7Sn\\x9cI\\xa2\\xe5\\xaa\\xba\\x87\\xb2<\\x9dP\\xd5\\xe2\\xf7\\xc8\\rC\\x19@\\xcf>\\x01>\\x893\\x80/k\\x0e\\xfa\\xc5\\x0bFo9\\xae\\xaew\\xdds9\\xe5\\x86*\\x14GXT5\\xaa5:g\\xa1T_3\\xd9\\xb6\\x01\\xc4\\xb56|4\\xc02\\xec~|\\x96\\x08\\xf7\\xf6X\\x9f\\xbc]\\x94\\xfbO\\xb4\\\\{\\xcd\\xf4\\\\K\\xc9\\xa1\\xc6|\\x83\\xc6\\xc2!\\xfbH\\xde\\xd5<5\\xa5\\xe2\\x9a\\xb9\\xeb#\\xcf\\x8d!\\xaeu\\xca\\x93\\x02\\x86c\\xeb\\xe3\\x9bD\\xa0\\xb7G\\xf9\\xe2\\rQl\\xb9\\xb6\\xeb\\xb6\\xa1\\xc6\\xe3LzZ\\xab-\\x7f.\\xe3L\\x1d?Y\\xa5\\xfc\\x82\\xd5(\\x8e67\\x86d\\xc5\\x0f<>\\xa0\\x16\\x9b\\x1e\\xdf\\x14Fy{p\\x8f\\xef\\x86\\xb8\\xae\\xde\\xb2h\\xa1\\xd8umy/\\x1eg\\x0f\\xfb\\xfa\\x9c\\xc5\\xb8J~\\xfaJ\\xe1\\xd9\\xebS\\x1cgn\\x00\\xc9\\x8a_}\\x9a@\\x0e;\\x1e\\x1f$\\xe2\\xbb1\\xb2\\xc7\\xb7B\\\\Qo\\xb9\\xb6\\xdfQ\\xe3lc\\xec\\xee\\x03,+\\xe6W#Wr\\xeaZ\\x19\\x1fhn\\x0cq\\xf5{\\x9e,\\xe0\\xb0\\xdd\\xf1Aad\\xb7\\xc4\\xf4\\xe4E\\x12W\\x14\\xc5D\\x01\\xfd\\xd3Xmy/9T;c/\\x9fd\\\\:\\xb7D\\xcd\\x8b\\xdc\\xbc\\xbc\\xf6\\xb1\\xfd\\xfe\\xfaW\\\\\\xfd\\xe6\\x07\\x8d\\xdb\\xb0\\xd7\\xf15\"\\xa6\\x17\\x03\\xba\\xf1\\x0e\\xd0\\x9b\\xad\\xed\\xd4\\xe9\\xaf\"\\xb8\\x16\\x8a\\x05~\\x7f]@_\\x8a\\x05jW\\xdb8`\\xa5\\xd9\\x86\\x1d\\x05|\\x00\\x1b\\x1d\\x9fR\\x1b\\xca\\xe3\\xcb#WEi\\xb9\\xe1\\xfe\\xe8\\x1fg\\xc8WO\\x96\\xb1\\x0c\\xe6 \\xfa:\\xec\\xa6j\\xf1\\xab\\xa6\\x96k\\xb9v_\\x01\\x1f\\xc0.\\xc7\\xa7T\\xc5\\xf1\\xf8\\xe6h\\xb8\\x1e\\x1an\\x8e\\xda*\\xf18C\\xaez\\xb2\\x80e${\\xd2\\xe7{\\x96\\xaa\\xa7\\x90\\x9bx\\xf2\\x11\\xe7Z\\x16%\\xcf\\xdd\\x06\\x80\\x11[\\x1c\\xdfQ\\x15\\xc1\\x87\\\\\\x0c\\rwF\\xe7 C\\xben\\xb2\\x8ce$\\x1b\\xd2\\xe7\\xbb!\\xb1\\xce\\x9d\\xcfB\\x99\\xbek$\\xfe4\\xd7\\xb2(y\\xe8f\\x00\\x8c\\xd8\\xdf\\xf8\\x88\\xaa\\xd8=\\xe4Jh\\xbb-\\xec\\xb5\\xe2A\\x86|\\xc5d\\x19\\xe3H\\xb6\\xa2O\\xb6M\\xed:4\\x8f!\\xee\\xc8\\xfe\\x94\\x05e\\x0c\\xae\\x11\\xe3\\xe3n\\xee\\x1d8\\x11\\xfb\\x1b\\x1f\\x11\\xc6n=pWE\\xf9\\\\\\xe1\\xf8F\\xb1\\xdc\\x16\\xf6\\xae\\xe3\\xf6C\\xbeb\\xb2\\x8ce\\x18[\\xd1g\\x1a\\x9b:\\xc1\\xda\\xc1\\x84\\xc4\\xc0\\xec\\xcf:\\xd4\\xf6\\xdc\\xe3\\xc6\\xdbz\\x07N\\xc4\\xe6\\xc6\\x17\\xd8\\xa3vU|\\xcf\\x15\\xb6\\\\$\\xb1\\xe6A\\n\\xaeb\\xb2\\x80e\\x0c\\xaf\\xd3\\xa7\\xf6\\xd8g.\\xc6\\x01?\\xc2\\x91\\xdb\\x9fx\\xa8\\xf8\\xf4\\xdd\\xff\\xb4l\\x80\\xb6\\xde\\x81\\xe3\\xb0\\xb3\\xf1\\x05a\\xc8V\\xe2uUdW\\n\\xb7\\xdd\\x10\\xf6Z\\xa2d\\xc8\\xd5J~j\\x1c\\xc3+\\x94\\xe9\\xc4\\xf6\\x9cH\\xd5\\x14\\x9cg\\x16\\xf6\\x87\\x1e\\xd2\\xbb\\xf3\\x8dX\\xb6A[\\xef\\xc0Y\\xd8\\xd68\\x9e1XW\\xc5t\\xa5p\\xdb\\xdd`\\xaf%J\\x86\\\\\\xad\\xe4\\xa7\\xc61,\\xa3LA\\xb1\\xdb,\\x84\\xe6I\\xd9\\x1f\\xfd#\\xae\\x12\\xbe\\xf3\\xb4\\x90\\x1bR\\xd8EC\\xef\\xc0Y\\xd8\\xd38\\x9b1LWEs\\xa5p\\xdb\\xad`\\xaf%J\\x16\\x19\\x07\\xb0L\\xed\\xf8\\xbd\\xddf\\x91\\xd36\\xbb\\x98e\\xbez_a\\x0b\\xc9\\x92\\xb9\\x02\\xa7,5`\\xc7\\x9e\\xc6\\xd9D\\x10O\\x86iK\\x99G|+\\xf4_\\t\\xf6\\x01\\xc4\\xbd\\xe7\\xd8{_\\xe3\\xdc\\x91\\xd7\\xb2\\xcfTaY\\x04\\xbd\\xa3\\xb0\\x85\\\\I_&\\xfc\\xf4\\xf4\\xc5\\x07b\\xeci\\x1cL\\x84\\xefd\\x8c\\x8eC\\xbc\\x1e\\xca\\x956-\\xdd\\xc5\\xec\\xb5\\xe2\\xa1\\xe6\\x18\\xbb\\x9e\\xed\\xb8\\x01\\x8f\\x92\\x9b\\xb8\\x9f\\xa6qY\\x8akRlG\\xb4\\x90,\\xef\\xca\\xc4\\xef\\x7f\\xecq\\xe0r\\xecf\\x9cJD\\xe7\\\\h6\\x16\\xf3\\x94\\xc2U\\xed<\\xec\\xb5DI\\x85\\xb1\\xebI\\x8c\\xe3|w\\x90\\x0b(\\xeb\\xe0\\xe7>d\\xa1,\\x8d\\x88\\x16x@\\xb8\\r[\\x19\\xa7\\x12\\xf1:\\x19\\x97-e\\x1ez\\xe1\\xf0S\\xfb\\x1d`\\xac%\\xbaV\\xd8\\xbb\\x1e\\xce8\\xc8\\x17G\\xb8\\x98\\xbe ~\\x1d\\xfa\\x17Ml\\xa1d\\x83\\xa2\\xfa\\x86O\\xea\\x19\\xd2\\xcaNq\\t\\xb6\\x14\\x8e$\"u28Z\\xca<\\xf4\\xc2UM=\\xec\\xb5D\\xc9\\x98\\xb1\\xc7I\\x8a\\xc3\\xf3\\xde\\x1d\\xe4+\\xf4\\x95\\xf1\\x0bb\\\\=/^\\xc3x\\x17%\\x1b,VLZ\\xf3\\xc8\\xe2)\\xfc\\xfe\\x02F`?\\xe1<\\xc6\\xb0\\x18\\x16+\\x86N\\xa5\\xcd\\xb6(l\\xaf%J\\xc6\\x8c=\\xce\\xb0\\xf3\\xd86\\xa1/\\xd1\\xb3>\\xc5\\x95\\x0c\\x89UM\\xee\\xa5\\xb8\\xc1\\xf8YX:\\x9d\\xfd\\x04-\\xe3\\x04z\\xb0\\x9fp\\x98dL\\x8f\\x19\\x8byz\\xe1\\xaa\\xa6\\xbc\\xb6A&Y\\xba\\x1bN\\x1f\\xd8+C\\xdaV\\xf1!\\x86\\xcbey\\xe2\\x8f\\\\\\xc5\\xe7\\xfd\\xb8\\xb5\\xe4\\xa3y\\xf7i\\x1a\\x07\\t4c?\\xe1$\\xf6\\x98\\x98\\x8c\\xfbI\\xa2MQX\\xff4\\xc98\\xc8\\xb8X\\xcc\\xd2\\xdd\\x10\\x96\\xc18\\xcb\\xc6s\\x96\\xaaGi\\\\\\xea\\x90\\xab+j\\xe5Z\\xcb= \\xbd\\xd3\\xa9\\x8f5\\xeezjw\\xb8\\xd0\\xff\\xfb\\xfd\\'p\\xa0\\xb6\\xa8mg\\xbc$B\\xc6\\xa8m\\x19\\xe1\\x82p\\xef\\x86\\xe1\\xfd^\\xe7\\xb9\\xc1,\\x18\\xcf\\xa1,+\\xf3,r\\xc32\\xc6\\x0f(\\xd7Z\\xeeQ\\xfeyx\\xf9~-\\x1b\\x00\\xd8\\x16y\\x0c\\x8e!\\xa2\\xad\\x12\\x97Cz\\xb1\\xb66\\xed\\x92\\rZ\\xae\\x8d\\xe1#\\t\\xb9\\x01x\\xbf\\xd7yn\\x18\\xde\\xef52,K\\xf4,\\xf8\\xd8\\xf5\\x14\\xad)\\x8fU\\xe9\\xd7\\xb2\\x19\\x80=\\x11\\x9ep\\x06\\x11g\\xed\\x11\\xb9\\xb9\\xa4\\xbd\\x9d\\x87\\xa5\\x8a(\\xe3\\xb8b\\r}\\xb5\\x89{\\xcf\\x997\\x86\\x0f\\x8b\\x9fc\\xf2q\\xff\\xfe\\xca?\\x0e_\\xa6\\xeaa\\xc5]\\xff\\xfe\\x8a(\\xcd*\\xb5\\x9a\\xe9+\\x00\\xf4c?\\xe1\\x0ca4\\xd4\\xe3\\xa0\\xb1\\xa4\\x1e\\xf7\\xf5O\\x93,UD\\x99$K_\\xb5\\x8a\\xfd\\xce\\xe8\\xf4N\\xc9m\\x10\\xaf\\xff\\xb3\\xe0\\xc9G\\x13>\\x0e\\xcb\\x9eI\\xd2\\x9fi\\xae\\xd9\\xe1;A\\x99;0\\x04\\xfb\\t\\x07\\x10\\xa1P\\x89\\x83\\xc6\\x92\\xc5\\xd8j\\xef\\xf1\\x11VI\\x96\\x8f;\\x8dY:\\xca\\xb1\\xb4/\\xf4t\\x87\\x9c\\xe4\\xe6\\x89\\x9f\\xce\\xb3\\xf8\\xc9\\x07\\x17?\\x9a\\xe1\\xcf\\xd7\\xd8o\\'e\\xe2\\xc0\\x10\\xec\\'\\x1c \\x0c\\x85J\\x10\\x14\\x11\\xb3\\xb9\\xa4\\xbd\\x9dG\\xb1\\x8a(\\x90\\xa4w\\x14wai3\\xc72)4K\\xee\\x87\\xe4\\xf3\\xca}\\xa4<\\xa0\\xda\\xe7^\\xd5\\xd4\\xf0\\x8d\\xb1\\xa0\\x0b\\\\\\x8e\\xfd\\x84\\xdd\\x898h\\x0c\\xca\\xf6\\xd8\\x1d\\x974\\xb6\\x13\\xd2\\xab\\x88\\x1e\\x93\\x9eZ\\x96\\xc2\\xcd\\x8c\\xd3A\\xbf\\xe46K>\\xdc\\xdc\\xa3\\xcf=\\xac\\xb0\\x98+c\\xd90\\xcas\\x8f\\xab+\\x85\\x1b\\xe8S\\x06\\xfa\\xb1\\x99\\xb0;\\x11\\xb5\\x7f\\x7fED\\xb8\\xcc\\x95\\xb4\\x143\\xf6\\xf8\\xd0\\xdb\\x14\\x9f\\naa\\xbdd\\'\\xcbD0Vnc\\xc4\\x0f:\\xf7Q\\xf2\\xa9\\xd9\\x9b\\r\\xe9\\x1b\\xc0\\xd2o\\x9b\\xe4\\xa8\\x06\\xb6\\x0f\\xb0\\x99\\xb0\\xbb0\\x0e*\\xe1\\xcfR\\xcc\\x12\\xac\\x8d\\xdd\\x85\\x94*\\xa2G!,\\xac\\x9742\\x0e\\x18\\xcb\\xe4\\xb6\\\\\\xfc\\xb8\\xfdG\\xb9\\xf7\\x85\\xb0\\x98}\\x17\\xe9\\xdb#7\\xd4N\\xc9!\\x8dj\\x1cp\\xd8L\\xd8\\x9a1\\xb6\\x0e,\\x16\\x96\\xb1D[\\xa5M\\xf1\\x91\\xf0\\x94\\xd4\\x8b\\x85,\\xe3\\xc1n\\xec;\\xc4\\x7f\\x14\\xef\\x87\\xf8\\xb9\\xdb\\xdb\\x14\\xf4-\\xa44\\xdb,9\\x9e!-\\x03\\x1e\\xffw\\xf0p\\x8c\\\\\\xec3\\x06_K1\\xfd\\x0e(\\n\\xdb\\xd4\\x9b\\xf2%]\\x99d1\\xf7i\\xd2\\xefc\\x1cE<8ec\\xe4>\\x8a\\xdfW6C\\xcf>\\xb1\\x0f\\x15\\xd8\\x07y\\x0c\\xae \"\\xb2%\\xd6[\\xca\\xd8/\\x1e\\xc1\\x15H\\x96q\\x9dZ\\xfa\\xc57\\xc4\\xcf:\\xb7sr\\xef{\\xe2Se\\x0b\\xe9\\xed\\xc4j\\xcb\\x1bMj\\x16w\"\\x8f\\xc1\\xbe\\xc2`\\x97\\x0b\\xcd\\xf6\\x08\\xfe06U\\xebi\\xb6\\xb9\\x1d\\xcb\\xe0q\"\\xf1d-\\x1b\\xbbH\\xaf\\xe8>mk9\\xae\\xd5y.\\x80\\xd9\\xc8cp0c\\x12c\\t\\xc4\\xc6\\xa6t\\xae\\x11K_\\xb1?wNS\\x8f8\\x85x\\xbe\\xe1>1>\\xfa\\x86\\xad\\x95l\\xb9\\xd8N\\\\\\xeb\\xcf\\xb6n\\xda\\xd8\\xc0\\x02\\xe41\\xd8\\xd4\\xa8\\xb8)\\xdai\\x8b\\xec\\x16m\\x8d\\xb8\\xf1$\\x87\\x84\\xab\\x18\\xb7\\x81\\xb2\\x99s\\xdb/\\xd9lq\\xaf\\xb6\\xd5\\xaa2\\xb65\\xdc\\x8c<\\x06\\x07\\xb0DU\\xcb5`\\x8c\\xce\\x96\\xa6\\x9c\\x86@\\xecZ\\x16~\\x1f\\xe0\\x02\\xe2q/\\xbb\\xc8\\x93\\xdb\\xac\\xd8{[-\\x1d\\x1b\\x1e3\\x90\\xc7`G\\xb5\\xe12\\x17\\x1f\\x8b\\xed\\xc4\\x05\\xe6\\x85Z\\x828\\xc4\\x1e\\x10\\xdb\\xcf\\xb2C\\x94-\\xad|\\x94l\\xb9x:\\x92\\\\\\xad\\xb6\\x8a\\xc0$\\xe41\\xd8]\\xf3\\xf5/\\xa2\\xad\\xa5\\x9d\\xe6\\xbe\\x8a\\xe6\\xb5\\x8c/I\\xee\\x13\\xf1f\\xb8\\xb1\\xed\\xfb*YR\\xcfH\\x94\\xc6\\x87\\xa42\\xe4C\\x18\\x82<\\x06\\xdb\\xb1D\\xb7\\xda\\x08h\\t\\xe2\\xf6+\\xa1\\x8akvR\\xcb8\\x91\\xd8\\x0c\\xf1N\\x8ew\\x8b+S\\xac\\xe5\\xe9\\xe7\"\\xb9\\x0f\\x1b\\xaaxz\\xc5\\x1c\\xa5A\\xa0\\ry\\x0c\\xf6\"\\x82\\xa3%\\xea5Dg\\xa7\\xa1\\xa3\\x901\\x88\\x13\\xb5\\x11\\x13\\xbb\"\\xdeK\\xae@\\xbcsr\\xb5\\xe2\\x92c)\\xed\\x1bO\\x010\\x15y\\x0c\\xf6\\xd5\\x1c\\xa0\\x8b9J\\xb1\\x00\\xb0\\x15\\xbfc\\xc5FM\\xa6\\x11zn\\x91\\xdc\\xeaz\\x15]O]`\\x08\\xf2\\x18l\\xc4\\x18\\x13\\xc3b\\r)\\x88\\xe8\\x85$\\x06\\xebY2\\x92\\xa4\\xe4v\\xad\\xda\\xc3\\r\\x1b^Ti\\x1e<0\\x03y\\x0cv1*\\xbdX\\x90\\xa6$\\x03w\\xdc\\xd1\\x8c\\xae\\xf1\\x19\\xc5\\xed!\\n$w\\x9d\\xfd\\xcdP\\xdcu\\xb1J\\xc8\\x15\\xb6\\x8c\\rX\\x83<\\x06\\x87\\xd1#\\xa6\\xf8\\xb4\\x18\\xaf\\x8bwI,9\\x00\\xd7N\\x7f\\xcb\\xb8\\x99\\xbe\\xb1=_&\\xb9\\xb5\\xc4\\x9b\\xc5\\xd6\\xe2F\\xf4*q\\xf9\\xda\\x1e\\x81I\\xc8c\\xb0\\x05\\x11\\x04\\x93\\x91\\xda1\\x16\\xcb\\xe9\\xac\\xee\\xc4\\xc1\\xda5\\x12\\xb7\\xd3\\xd02.$\\xf6Irw\\xfd\\xfe\\xfa\\x0f_&|\\xff\\xa9\\xb5r\\xd7\\xc5\\xc3p\\xdc\\x9b\\xcf`\\x80e\\xc8c\\xb0\\x9d\\xe6p,b\\xa8\\xdeNC/J\\x8c&|\\xa3Mq\\x1fZ6jr\\xfb\\x15\\xf7d\\xdc\\xb2^E\\x94\\xf7\\x85k\\x1b\\x01\\x86#\\x8f\\xc11D|LF\\xd5\\xc7\\xf0\\xf0\\xaaT/v\\r\\x18Yv\\xa9/\\x93\\xdcf\\xfd{\\xaf\\xe1\\x98\\x0c?k@\\x15\\xf2\\x18\\xbc\\xcf\\x1e\\xbb\\x1fz\\xbc.\\x06\\xd6\\xdap\\x9f\\x1b\\xa1k\\xa7\\xb3e@\\xec\\x99x\\xb3\\x15\\xf7\\xb3\\x93\\xdc\\xa2\\xb9}\\xfbHnW\\xa5Vn\\xa8\\x96\\x11\\x02\\x93\\x90\\xc7`/\\xc9\\xc0ZT\\x154\\xab\\xbap-+\\x8d\\x8b\\x8f\\xda\\x06\\x0f\\xb4If\\x15\\xb5\\x9b0Y^\\xd9\\xf3\\xc9N\\x9d\\xb8\\x1d\\xf7Q\\xb2\\x9d\\xb0d\\xb2\\x00P\\x85<\\x06\\x07\\x10\\xc1.\\x17I\\xbdd<\\xfd\\xfdU\\xc3\\xd5j\\xab\\x08\\xd4\\xd2\\xb7\\xb4\\x93\\xdb\\xd5\\xc5\\x8a\\x96=\\x1c7\\xae\\xcbu\\xea\\xdeW\\x9aR>\\x02z\\x90\\xc7`w\"\\x10\\xeb\\xd10\\xfe\\xb4\\xaa\\xba\\xe3\\xca{\\xbf\\xd7f\\x84i\\xf4h\\xd8?\\xc9]\\xea\\xdelh\\xaaxp\\x80m\\x91\\xc7\\xe0ea\\xb8\\x1c\\x15\\xcas\\x8a\\xed7\\xc7\\xee\\x86\\x91\\x03\\n\\xe3Vt\\xc5\\xe6\\xed=e\\x0c\\xa2\\xd3\\xb0$g\\x01\\x8b\\x91\\xc7`k\"\\x92*\\xd1\\xd3\\x89\\x03\\xa8\\x12\\x88cU\\x85\\x81\\xe1\\xf4\\x0c@\\xf94>\\x17\\xe1;\\x936v\\xdc\\xe9\\xef\\xaf\\xd4P\\x95\\xc1\\x03\\x9d\\xc8c\\xb0/\\x11\\x7f\\xf5P\\x18\\x7fZU}R\\xac\\x07\\x9aU\\xedI\\xb1\\xbdG\\xedg\\xbd\\x1d\\xa5\\xd3I\\xe3\\x01b\\xe41xSOt\\xeb\\x8f\\x8c\\xae\\x85\\xc7\\xef\\xad\\xbf\\xf4\\x8c\\'V[\\x1e\\xc8i\\xd8K\\xcf\\xeeU\\xea\\x8a\\x1d>\\x10\\xf9\\n^G\\x1e\\x83]\\xe8\\x01\\xb1\\xeaS\\xa7\\xb6\\xc0#.\\xa9\\xab-\\x0f4\\xcbm\\xb6!\\xd9C\\xf3N\\x16\\x15s\\x83\\t\\xdf\\x0f\\xab\\x0c\\x19<nF\\x1e\\x83\\xd7(\\xf1K|T\\x1ba\\x8b\\xd5s]\\xfb\\x92\\xf6\\xdek\\x07\\x06TQ\\xce\\x88\\xe0K*\\x1b\\xd2\\xde\\x94`\\xa9(\\xfa\\xcdUi\\x1e\\x03\\xa0 \\x8f\\xc1\\x16\\xaar\\x05\\x11\\r\\xf5\\x18Z\\xac\\xfe\\xf0%\\t\\xb5x\\x97r\\x16t~\\xeb6Wwru-\\x87B\\xd4\\xcdU\\xe1|a8\\xf2\\x18\\xbcC\\tgz\\xa4\\x13\\x9f\\xea\\xd13\\x8e\\xcbq\\x81\\x87{\\x19w\\xed\\xde\\xd7\\xc7\\x03L\\xa5oi\\xf1R\\xd7\\xb3\\x939\\x05\\xd8\\x16y\\x0c^\\xa0\\x84f=j+\\\\\\xc5b\\xdd\\xda\\xc6\\xf5\\x02\\xf6\\xb1\\x01U:\\xb7VO\\xf5\\x05u\\xc51\\x04:\\x91\\xc7\\xe0eJ\\xec\\x8b?\\xca%\"qd\\xb4\\xd7}\\xd4f9\\xc0\\x1a\\xca\\xc5/>RJz\\xc5\\x02\\nK\\xdd\\xdc\\xa9\\x11\\xef\\xf7\\x0c\\x03\\x10\\xc8c\\xb0Zs\\x08\\x13\\x15\\x9f\\xc8\\x187\\xd8\\x90\\xa3\\x14\\x0b\\x08\\xc5\\x02@\\x0fe\\x83\\x89\\x8f\\xc4K\\xbf\\x93\\x95\\xea\\xf1y\\x11:\\xf7v\\xaezg\\xb3@\\x0ey\\x0c\\xde\\x94\\x0c\\xc1I\\xb9<#\\xae\\x12\\x87\\xcb\\\\\\xddG\\xb1\\x00\\xf0.\\xfdh\\x14w\\xec\\xa8-\\xad\\x0cC\\xf1\\xf4\\xce\\xc9\\xc2\\x0c\\xe41X\\xca\\x1e\\x07-!/n-\\xaeU\\xecQ/\\x90\\xfc\\x94p\\x8c\\x05\\x94m&>\\x12\\xbb4\\xde\\xb4\\xc5\\x02B\\xe7\\x0e\\xe7\\x80`%\\xf2\\x18\\xbc\\xc6\\x1e\\xecD\\xd8\\xf5\\x15\\xe3X\\x1c7X,ci\\x04\\xd8A\\xf2\\x14<\\xe2\\x8d=i\\'\\xc7G\\xa6\\xa8\\xa1\\n`G\\x1e\\x83]\\x18\\x83\\x9d\\x8f\\xceqL\\x8f\\xa3v\\xdc\\xa0(S,\\x90d)\\x03\\x0ca\\xdfln3\\xc7\\x85\\x95\\xea\\xc5\\xe3\\xd6SW\\xc1\\xf1\\xc1p\\xe41\\xd8\\x91\\x1e\\xecD\\x18M\\x16.\\xe6(=\\xb1\\x18x\\x85e\\xe7\\xefI?n\\x1cF\\xf4 \\x8f\\xc1:m\\xd1J\\xd4\\xb2\\x84\\xf2\\xb8#K\\x12s\\xd0\\xad\\x80{4oK\\xbf\\xc9\\x95\\xea\\xc9S\\x90c9A\\xc0+\\xc8c\\xf0\\x8e!a1\\x19\\xa3ES\\xae\\x8c\\xa5/KSN\\xb2\\x18\\xb0\\x8c~R\\x92\\xfbS\\xd9\\xb4U\\xe7\\xcer\\x8e\\x14\\xb5\\xe5\\x01#\\xf2\\x18,\\xa2D1\\xf1\\x911W\\x18\\x98R\\xac\\xef\\x11\\xb0k\\xdex\\xcf\\xc9b\\xeb\\xe2\\xc3\\xc8c\\xf0\\x02{T\\xcde?\\xb9\\x16\\x8a)\\x91\\x92N\\t\\xf6\\x92\\xc0J\\xfa\\xce\\xacMY\\xaa\\xf6\\xb9h<WW\\x7f\\xbfv\\x84\\x80\\x8e<\\x06+(\\xb1R|\\xd4\\x13\\xe3\\x8aM%\\x87AT\\xc5\\xfe\\x9aw\\xa9r\\xf4\\x8a\\xc2N\\x9fvjG\\xc2\\xf9\\xc2l\\xe41\\x98NI/\\x8a\\x99GR\\xb2\\xd8\\xc0\\xa6\\x9c8\\xfa\\x1b\\x1b\\x04\\x16Hf\\x15\\xc97\\x1f\\xca\\x06\\x8ew{R\\xb2\\x98\\xb1\\xee\\xc3\\x97\\xe74a \\xf2\\x18,U\\x15\\xbf\\x92!\\xb29\\x02\\xc6\\xad\\xd9\\x9b\"\\xec\\xe2u\\xfd\\x9bp\\xd46\\xaem\\'Y\\x9e3\\x85Q\\xc8c0\\x97\\xf2uM|d\\x89k\\xb92\\x03\\x9br\\x1aZ\\x03\\x16K\\x9e,\\xe5\\xb8y\\xc6\\x13\\xf4\\x10\\xe5\\xdb:u\\xc2v\\x9a\\x1b\\x01\\x92\\xc8c\\xb0\\x8e\\x12\\xcb,\\xb9\\x821\\x04\\'\\x8b5t\\xe7\\xd9K\\x02\\xb3%w\\xa3\\xfdM\\xafvK\\x8b\\xf2\\xfe(\\xd56\"\\x90\\xb5` \\xf2\\x18l\\xca\\x98yLMb\\x80\\xe3<\\xbb\\xdd\\xeds\\xcf\\xbf,\\xea\\xc9-,u\\xe3\\x91\\x88wz\\x06\\x80\\x9b\\x91\\xc7`\\xa2\\\\`\\x12\\xef\\xdbCm\\x83\\xda\\xe0H0\\xc5\\xce\\xc2\\xc3\\xf2\\xec\\xd5\\xa9\\'\\xc8I&\\x1c\\xb9,\\xc4x\\x828h\\x18\\x85<\\x06\\x8b\\xe4Bm\\xf2}\\x11\\xe3ru\\x8b\\xc5\\xe2X\\x99k\\xca3\\xf6\\x0b\\x1c\\xcdx\\xa0B\\xc9*\\xc5\\x03\"\\n\\x88\\x97Jw\\x80\\x1dy\\x0cV\\x1b\\x15\\xbc\\x8a9GmGDU\\x1cg\\xabMk\\x19\\x8c\\x9e\\xfap\\x06\\xd1\\x80<\\x06\\xb3$C\\x92x3\\x19\\xd4,e\\x8a\\x92\\xbd\\xb75\\x05le\\xc86\\xce5R\\x9bIp\\xa6\\xf0:\\xf2\\x18La\\xc9E\\x92o\\x1a\\x93\\x98!\\xb9N\\xa86|\\x03\\x9bh\\xde\\xba\\xc6\\xc35\\x9c~Z9\\x89\\xa8E\\x1e\\x83u\\x8a\\x11\\xca\\x18\\xc2D\\xb18,&\\xdb\\xe9\\xcfu\\x80Ml\\xbb\\x99\\x8dG\\x98\\xc3\\x88\\x81\\xc8c0^2\\xcf(&\\x1f\\xb1d\\x99\\xb6$\\x06\\xf8\\xb0\\xe6=\\x9f;\\x86\\x0b\\x0e\\x91\\x12\\x018\\xc2\\xa8B\\x1e\\x83\\xc1\\x8ayF\\x8e%x\\x15\\x1b\\xcf5\\xa2\\x0f\\x83\\xb8\\x89\\xe3\\xd8O\\x96.\\xd7N|(\\xc2\\x92\\xe1\\xa7\\xcd#\\x195\\x05\\\\\\x8e<\\x06+\\x14\\xf3\\x8fX\\\\\\xa6\\xd8H.\\x1d!\\\\\\x02S\\xb9#\\x96<e\\xb9#Y\\xd4\\\\\\x11\\x17\"\\x8f\\xc1H\\xc9T\\xa3\\x98\\x7f8\\xc5\\xb0ei$\\xa9X2\\xd7\\xb5\\xbd\\x0b\\xe0h\\xb9\\xad^<\\x95B\\xc3\\x91Q\\xaa\\xd4\\xf6\\x8ek\\x91\\xc7`\\x16{P\\x8b\\x03\\x96^7\\xf9)Q\\x0f\\xb7i\\xc8\\x1bjU\\x1d\\xabd\\xe1b\\x0b\\x0bf\\x81o#\\x8f\\xc1\\\\\"\\x8aM\\x8aY\\xb9XY\\xec\\xae\\xb9\"\\xb0\\xadb\\xea\\xb0X\\xf3xv\\x9b\\x08\\xf6D\\x1e\\x83\\x89D\\x18J&\\x07q\\xa8\\x8a\\x8b\\xe9\\xe1,\\xf7is.B\\x12\\x83S\\x8c\\xda\\xabJ;m\\xc9\\x84h\\xb0\\xad\\x11\\xa7\\xb9\"\\xeeA\\x1e\\x83a\\xc2\\x88\\x13\\x87\\xc5d\\xa0l\\x08R\\xa3\\x02\\xb7C\\x88\\x04\\x1e\\xc3S\\x19\\xbb\\x81\\x87\\x1a\\x17\"\\x8f\\xc1,\\xc5\\xd87$8\\x0e\\x8f\\xb0\\x84T\\x9ce\\xe0\\x8e-6\\x15\\x16(\\x1e=\\xd1Z\\xf3Q\\x1d~\\xc6\\xf11\\xe41\\x98B\\x84\\x1e{\\xa8\\x8dK*QL\\xf9\\xa8\\xd8c\\xb2\\xae}\\x9c\\xc0\\'\\xe5\\x8e@[21\\xea@\\xb5\\xf5\\x8eK\\x90\\xc7`\\x8c\\xda\\x94\\xc2\\x18\\x98D\\xb1\\xb0)\\xe5#\\xe0*k6\\x7f\\x7f2Q\\xd5\\x82\\x98T\\x7f\\xef\\xf8*\\xf2\\x18\\xbc`FH\\xeao\\x93L\\x08\\x18\\xcex\\xac8}hF\\x1e\\x83\\x01\\x94\\x1c\"\\x0eO\\xf6\\xc2\\xa2d\\xf8\\xa9\\xf2\\x91\\xd3\\x10\\x13\\x1b\\xaa\\x00\\xfbX\\xb3\\x81\\xfb\\xbf-\\xd8[p%\\xc5\\xa4\\xfa{\\xc7\\'\\x91\\xc7`)=\\xff\\x08)%\\xed\\x8d\\xe4\\x10\\x10\\x81\\x9c\\xe1)QO\\x83\\xc3\\x07\\x83\\xef!\\x8fA/%\\'\\xd0c\\x90\\xfb\\xd4\\x98O(\\xed\\xf8\\x8f:\\xf3\\x12b%>f\\xe7\\x13\\xd13\\xb6\\xcey\\xe1\\x93\\xc8c0K\\x1c\\n\\xf5\\x18\\x14\\x96WJ\\x16\\x03\\x19I\\t\\xd0o\\xec9jk\\xcd\\x1fvQ\\x97T\\x06\\x02y\\x0c\\x16\\x11\\xd1\\xc7\\xc5&c<\\n\\xa3X\\xdc\\xc8\\xef/\\x00\\xa3\\xcd;_\\xc9\\xb3\\x9f\\xec\\xce\\x97\\xe4\\xa4CA\\x1e\\x83.\\xb9\\\\D\\xc4\\x9db\\xfe\\x11\\xbe\\x93kSx\\xaa\\x18\\xcb?\\x8a\\x83\\x01\\x10\\x8bOJ\\xd5\\xd1k>hq/\\xb5G\\x1e\\xdfF\\x1e\\x83\\xe9z\\xf2\\x86\\xda\\xd8GR\\x82k\\xcd\\xd8\\xfca\\x9bc\\xb3\\x87\\xaa\\xd6\\\\a1;R\\x19<\\xc8c0\\x9e\\x12\\xfb\\x9e\\x8fraH\\tO\\xe1G\\xcd!;7\\x1e\\x00E\\x9d\\xe7ETW\\x0e{Rgu|\\x15y\\x0c\\xda\\x15\\xe3\\x881i\\xa8}?T\\x15\\xcb\\x08|@\\x0fw\\x82,\\xa7r\\x06\\x7fxIe\\x10#\\x8f\\xc1`O\\xa0\\x11!&\\x0c@\\r\\xd1\\xc7R\\xa56\\xc2\\xbe\\x15\\x91\\x81Ifli\\xd1fg\\xea\\xa0\\xb7&>M\\x16\\x9e1G\\x1c\\x8d<\\x06S\\xe8\\xe1)\\x14~\\x94\\x0b\\x91\\xf6\\xd6\\x14\\xb9\\xc6\\x81/q\\xa7\\xc3\\xfb\\xbd\\x1eAi\\xad\\xe1X\\x89\\xd6\\xf4\\x16\\xc6N\\x04\\x9fD\\x1e\\x83F\\xc9\\xe8\\xe3\\x83\\x8e\\x9ev\\x18\\x03\\x9f%~5\\xc4\\xd0\\x07\\xf1\\x11\\xb0\\x1b{^\\xdab\\x82\\xd3s\\xe4\\xf1U\\xe41\\x18\\xac*\\x89iHVrU\\xc6\\xc6Y\\x00\\x9b\\xd0\\x8f6\\x99\\r\\xc8c0RC\\x9a\\xf2H\\xc6\\xa3\\x9e\\x06C\\xa3\\xda\\x010\\x848\\x83\\x96\\xe3\\xef\\xb979\\xbf\\x08\\x91\\xc7\\xa0E2\\xbe\\x08q\\xac\\xb1\\'\\x13\\xfe#\\xbd\\xbce\\x0c\\x00F\\x19\\x9e=$\\x1b\\xb4\\xbc)\\xce>\\xa1\\xe0r\\xe41XdjR\\xa2GX\\xbdk\\x00;\\xd0\\x83\\x808\\xb6\\x9cb<\\xc8c0\\x85\\x1ee,\\x9f\\x92|\\x00\\xbb\\x19~\\x0c\\x9b\\x1b\\xec\\xfc\\xe6\\x83/!\\x8fA\\xb5b\\x04\\xa9\\x8dM\\r\\r\\x86U\\xf4\\xee\\xc8\\x87\\x80y\\xc6\\x1e(=\\x14(}\\x15c\\x08>\\x8c<\\x06\\x83\\xd5\\xc6\\xb5d\\x9e1**\\x11\\xdd\\x80\\xb1\\xc4\\x01\\xef?bz\\x83\\xf6\\xf69\\xec\\xd7\"\\x8f\\xc1\\na\\x88Q\\x12\\x9d\\xe4G\\xf1\\x9b\\x04,\\xe0K\\xc4\\x19\\xb7\\x87\\x08\\xf1\\x92\\xc8p\\'\\xf2\\x18\\xd4\\xd1#\\x85\\x12\\x80\\x92\\xfa\\xe3\\x8e\\xd2c\\xdcx\\xed\\xf0\\x00\\xc4\\xe2\\xec\\xa1\\xff \\x87\\xec\\xad\\x8d\\xed\\x17\\x87\"\\x8f\\xc1.\\x9e\\xe08$6\\x11\\xe0\\x80y\\xe2\\xaf\\x04\\x9d\\'\\xce\\xfe\\x85\\x84o#\\x10\\xc8c0L.\\xbe\\xf4\\x048=\\\\VE4\\xc2\\x1f0\\xd0\\x8b\\x07\\x8a\\xb3\\x8c\\x10y\\x0c\\x96\\n\\x03P2\\xbf\\xe9\\xfcV\\x07`\\x99\\xb1\\xf9\\xc4\\x90\\xd6\\x08 \\x17\"\\x8fA\\x85y1\"\\x19\\xc2\\xe27\\x8d\\x03\\x88\\x8b\\x8d\\r\\xb8\\x00\\xbc5\\'\\x8b\\x13\\r\\x05y\\x0c\\xe6\\xaaJ}\\xaa\\n\\x13\\xc8\\x80\\x1d\\x0c<\\x89C\\x9a\\xaa\\n#\\xf8\\x00\\xf2\\x18\\x8ca\\t@a\\x99b\\xac\\xd9-8\\x02X\\xc0~Z9\\xd7\\xf0\\xc8c0\\x91\\xf1\\x8b\\xd1\\xd8x\\xc4\\xb71`\\xb1\\x05)E\\xd5\\xb9&\\x08\\\\\\x85<\\x06\\x03X\\xa2XX&\\x19e\\x8a\\xa1\\',\\xc0W1\\xe0\\xab\\xec\\xa7\\x9b8\\x00\\x87<\\x06\\xab\\x89|%\\x19\\x89\\x9a\\xc3S\\x9c\\x0c\\x11\\xe9\\x80\\x05\\xc6\\x1e\\xb4\\xfe\\xd6\\x8a\\xdf\\x8b\\xf0\\x19\\xe41\\xb0\\xaa\\x8d\\x0b\\x96\\x9fO\\xc6\\xc6>\"\\x17\\xf0\\xa2\\xd9\\xdf\\x19\\x92\\x07|v\\xa7\\xd8\\x1fy\\x0czU\\xc5\\x91\\\\\\xaaQLA\\xdar\\x14b\\x1c\\xb0\\x92;q\\xde\\xef\\xf5\\xab\\xf8bs\\t\\xf2\\x18La\\x89 \\xb9`W\\x0c\\x82\\xc9\\x02\\xc4,\\xe0N\\x9b\\xa4Mx\\x0by\\x0cLrY\\x82%\\x82\\x14\\xcb\\x90\\x82\\x00\\x10\\xc8N`D\\x1e\\x83\\xf1z\\xf2\\x92\\x81\\xc1\\x8b8\\x08|L\\xcf\\x17*|\\x15y\\x0c\\xe6\\x1a\\xf2cLX&\\xd9 \\xbf\\xe8\\x00\\x88\\x11\\x19n@\\x1e\\x83\\xb2\\xaa\\xef@J\\xe0\\x88\\xd3\\x11Qx\\xe0\\x97\\xaa\\x81M\\x01\\xd8\\x1fG\\xfeZ\\xe41\\x98\\xa8*\\xb2\\x10\\x86\\x00\\x00\\xb5\\xc8cP0\\xea\\xc7\\x98XUaE\\xdc\\x0e)\\x11\\xf0\\x01\\xb5A\\x86\\x83\\x7f\\'\\xf2\\x18\\xccR\\x15S\\x94\\xc2a\\xd8\\xb2\\xb4I,\\x03\\x80{\\x90\\xc7`\\x11\\xf1-j\\xd4\\x8f1\\x00>\\xac\\xf6kI\\\\\\x9eP\\xf3y\\xe41\\xd0\\xe4B@2\\xb84\\xc7\\x8b\\x9e_PD\\xa7\\xfc\\x18\\x03|\\x0c\\xa9\\tt\\xe41\\x98\\xc2\\x9eO\\x90y\\x00\\x18\\x88\\x90r\\x1b\\xf2\\x18\\x8c\\xf1\\xca7$\\xbe\\x96\\x017\\xa8MMDy\\x02\\xc5\\xb7\\x91\\xc7\\xa0Z1\\xa6\\xd8\\x83\\x0e\\xdf\\x9c\\x004 5\\xc1\\x83<\\x06\\x03\\x14cJ\\xb2@g\\x12C \\x03\\xeeQ\\x1b.Dy\\xc2\\xc5\\x87\\x91\\xc7`\\xb0\\xb1?\\xb1\\x84\\xd1\\xa7\\xd8\\xf2\\xd8\\xae\\x01\\xec\\xac\\x98\\x9a\\x10\\x10.A\\x1e\\x83wt\\x86\\x18\\xbe]\\x01\\x00\\x1c\\xf2\\x18\\xf4*\\xa6\\x14\\xe4\\x1c\\x00\\xfa\\xf1\\xe5\\x07I\\xe41\\xa8\\xa3\\x87\\x12c\\xa0!\\x1e\\x01\\x00\\x86 \\x8fA\\x17R\\n\\x00\\xc0\\x8b\\xc8c\\x90U\\x9b\\xa3$\\x7fe\\x89\\x1b\\xe9\\xfc1\\x06\\xc0\\xb5D\\xf4\\xe0{\\x14\\x1c\\xf2\\x18\\xb4\\x9b\\x1dD\\x92\\xed\\xe7:%=\\x02.\\xa4G!\\xc2\\xc2\\r\\xc8c\\x90\\x96\\x8c\\x0eJP0\\xc6\\x8b\\xe6\\xb0B<\\x02\\xe0\\xc4\\xa1`\\xf6\\x17*l\\x8e<\\x06_@\\x96\\x03\\x00w\"\\x8fA\\x82\\xe5\\xfbMC\\x19\\xb2\\r\\x00\\xfd\\xaa~\\x92!\\xec|\\x1ey\\x0c\\x06\\x98\\x11)\\xf8\\xad\\x18@NU\\xccq\\x85\\xbd\\xdfk|\\x0by\\x0c\\xa4\\\\\\x02Q\\x1b\\x05\\x06\\xfe\\x18\\xa3\\xd7%<\\x01\\xc0\\xb5\\xc8c\\xd0\\xa2\\xf8c\\xc9\\xa4_S\\xf8\\x91\\x06\\x80\\xc7\\x17\\x18x\\xe41\\xf8GC\\xa2@4\\x01\\x00\\xbc\\x85<\\x06\\xe3\\xf5\\xffj\\x92l\\x81\\x1fc\\x00\\x00\\x02y\\x0c\\xaa-\\xfe\\xcd\\x86\\xdf{\\x00$\\x11\\x1c\\xe0\\x90\\xc7\\xc0$\\x17/\\xe2\\xf7\\'\\xfdj\\xc2\\x8f1\\x00b.\\x04y\\xbf\\xd7\\xb8\\x0fy\\x0cFJf\\x1b\\xfd!FIb\\x88_\\x00p3\\xf2\\x18\\xd4\\tS\\x8aI9\\x84\\xfe\\xd3\\x0b\\x89\\x0b\\x00\\xe0A\\x1e\\x83af\\xfc\\x18C\\xd6\\x02\\x00P\\x90\\xc7\\xa0\\x82\\xf2K\\x89\\xfe#J\\x0f\\xf1\\x0b\\xd0\\xbc\\x8e\\x00\\x00\\xc7!\\x8fA#\\xcb/%\\r\\xbf\\xa6T\\xa5)\\xfcZ\\x03\\x00\\x97#\\x8f\\xc1\\x00\\x93~#!M\\x01\\x00\\xe8\\xc8c`%\\xfe}\\xe7\\xf7W\\x1eY\\x08\\x00`6\\xf2\\x18\\x94-\\xcbHjS%\\x00\\xc0\\xe5\\xc8c`\\xa2\\xfc\\xcb\\xd1\\xa4\\x7fT\\xf2D\\xe3S\\xfb\\x02\\x00\\x1c\\x87\\xaf\\xbc\\xf8G2Q\\xf8\\xdf\\x7f\\xff\\xb7\\x84\\xc4/%\\xb9\\xdc\\xa2\\xf6\\x07\\x15\\xd1\\x8e\\xaf\\xae$.\\xfc`\\xd3OY^#\\x9e\\x02\\x80w\\xf1{\\x0c\\n\\xf4\\x8b\\xaa\\xff\"L\\xe2v\\x9c\\xcd=\\xb8!\\xcf\\xce\\xb7\\xf3\\xf8\\xbd\\x0b\\x00\\xabp[\\xe0\\x1f\\xf1U\\x14\\xff.\\x12&\\x19\\xb9\\xab\\xab6\\x11\\x11\\xed<\\xd5G\\xb5\\x0f/\\xb7\\x9e\\x0b\\xf0\\xc8\\x00\\xcc\\xc0\\xef1(\\xcb]~\\x93.E\\x92\\x98\\x19\\xdcbNz^F~\\x00\\xce\\xef5\\x00\\x8c\\xc0}\\x80\\x7f\\x88k\\xc6g\\x0c\\xe1\\x9b\\xb9$\\xc3\\xbd\\x9f,f\\x91\\xec\\xd4\\x11\\xef?\\xaa\\x1a\\x87\\x93[I\\xa7s1\\x95\\x96\\x15<A\\x00\\xa3\\x10M\\xf0\\x8fdJ\\x11\\xbe\\x19\\xbf\\xe3\\xe4\\x8a\\x19\\xe5*\\x8a^\\xbc\\xaa\\x96\\x91\\\\Cg\\xd22\\xe6\\xbaK\\xe2Q\\x02\\xe8\\xc7\\xbf+\\xa1\\x17\\xb7\\xd1\\xb6r\\x89\\xe0\\xbcG\\xe6\\x1bO\\xfa\\x95\\x08\\xb8\\xe1U\\xe5=\\x00\\x10#\\x8fAAx\\xd3$o\\xa3N\\xb9\\x9b\\x8c\\x1b\\xaeSr\\x01g<A\\xa3\\xbf\\xc9L6\\x9bq~\\xaf\\x01\\xa0\\x06y\\x0c\\xc6\\x18r\\x0f\\x15o\\xd9b\\x018\\xc9\\xb4\\xe0o\\x16\\xf1\\xfe\\xea)c\\xf0\\xc3v~\\xaf\\x01\\xc0\\x80<\\x06\\xe3\\xd9\\xefK.\\xad\\xe1\\x92K\\xbaC\\x06\\xf3\\xf8\\x93O\\xa9\\xe3\\xf9\\x9b\\xcc\\xfc\\xf1{\\r\\x00y\\xe41\\xd0\\xac\\xbcK\\xc2\\xbb\\x8d;\\xacM\\xbcn\\xc5\\xa4\\xe1-\\x96\\x81\\xfd\\xc9e\\xfe\\xfa\\xbd\\x06\\x80\\x08y\\x0c\\xac\\x86_\\x87\\xdcOc\\xc5\\xeb9\\xfc\\x91\\r\\xf77\\x99\\xf9\\xe3\\xf7:\\xe3o2\\xc3n\\x01\\x90@\\x1e\\x83-\\x14o2\\xc7R\\xe6Z\\'&1\\xa1?\\xb9\\xcc_\\xbf\\xd7)d3\\x00b\\xe41\\xf8/.\\x89\\x13%ow=!\\xd8\\x99\\xcff\\x9c\\xdf\\xeb\\x88\\x9f\\xaf\\xf3{\\r\\xe0n\\xe410Q\\xee\\x95\\xe1\\x92W\\xd4\\xca\\x01\\x1c$^\\xab\\xbf9\\xc0\\x17\\xd6\\xcaO\\xc4\\xf9\\xbd\\x8e\\xfcMf\\xc8f\\x80\\xdb\\x91\\xc7\\xe0\\x00\\xcaev\\xb3d\\x12\\xf3\\xfb\\xebC\\xfe&3d3\\x00\\xd2\\xc8c\\xf0\\x0e\\xee\\x9eN\\xf1\\x02~2\\x89y\\x90\\xcd\\x00H\"\\x8fA\\xb5\\xf0\\xc2\\x18rw\\xea\\x8d\\x0c\\xe9\\xe2c\\xe2;\\xfb\\x92Ur\\xd3\\xf4~\\xaf\\xff\\xf57\\x99!\\x9b\\x01\\xeeB\\x1e\\x83\\xb2\\xdc\\xb5\\xb1\\xc0\\x8b]oK\\\\\\xd5\\x7f\\xaf\\xf5\\xebVI\\x995\\xd9\\x0cp\\x15\\xf2\\x18\\xd4\\x99}Cp\\x03\\xe9\\xc4\\xfa\\\\\\x98\\xc1\\x84\\xf4l\\xe6\\xf7\\x17\\x80O#\\x8fA\\xbb\\xcb/\\xd1\\xf5Hb\\x92\\xfe&3\\x89\\xa5p\\xcbE6\\x03|\\x1ey\\x0c\\nf\\\\\\x96\\xdc.\\r\\xc4\\xa2\\xcdx.G\\xfb\\x9b\\xcc\\x90\\xcd\\x00\\xd7!\\x8f\\xc1\\xcb\\xb8\\x8f-Hb\\x8cr+C*\\x03|\\x15y\\x0c6\\xc2e\\x93D\\x12S\\xc5\\xadOr\\x89\\xdc2\\xb2\\xc1\\x80\\xef!\\x8f\\xc1j\\xdc%U\\xc4r\\x91\\xc4\\x18)\\xd9\\xcc\\xef/\\x00\\x9f@\\x1e\\x83\\x9fW\\xe2{x\\xd3p\\xc1\\xc4Hb:\\xfdMf\\xe4\\xa2\\xb1\\xd3\\x80/!\\x8f\\x016E\\x123\\n\\xa9\\x0c\\xf0a\\xe41\\xa8\\xd0\\x1f\\xfds-$\\xdf\\xbf\\xf9\\xe6&\\x89\\x19\\x8bT\\x06\\xf8*\\xf2\\x184\\xea\\xbfY\\xb9\\x9bsHbf \\x95\\x01>\\x89<\\x06V\\x04\\xfd5Hb\\xe6!\\x95\\x01\\xbe\\x87<\\x06-\\xda.\\xd7\\xdc\\x9d\\xc1]\\xf2 \\x89\\x99\\xcd-\\xa9XU\\xb6\\x1fp4\\xf2\\x18\\xbc\\x83\\x1b:F\\x12\\xb3\\x0c\\xa9\\x0c\\xf0\\x19\\xe41\\xf8c\\xc38~\\xdb-N\\x12\\xb3\\x18\\xa9\\x0c\\xf0\\r\\xe41X\\x84{BA\\x12\\xf3\\nR\\x19\\xe0\\x03\\xc8c\\xf0\\x82\\xe2=}\\xd5EN\\x12\\xf3\"R\\x19\\xe0t\\xe410\\x99\\x17\\xdf/\\xbf9Hb^G*\\x03\\x1c\\x8d<\\x06\\xd5f\\xdf\\xb5\\xf7\\xdc\\xe5$1\\x9b \\x95\\x01\\xceE\\x1e\\x03\\xbc\\x83$f+q*C6\\x03\\x1c\\x81<\\x06\\x03\\x84\\x11?y\\x1f\\xdb\\xaf\\x84K\\xaes\\xb1 $1;\\x88\\x9f\\x02\\xa9\\x0c\\xb0?\\xf2\\x18\\xac\\x16\\xde\\x16\\xdc\\x13\\xd8\\n\\xa9\\x0cp\\x1c\\xf2\\x18`5~\\x8c\\xd9Y2\\x95!\\x9b\\x01\\xb6E\\x1e\\x03,E\\x12\\xb3\\xbf\\xe4C!\\x95\\x01\\xf6D\\x0cE!@\\xfb\\x98\\x1e\\x96\\x11Q\\xder1\\'\\xab\\'\\xfbMV\\xff\\x0c\\xcbZ\\xbd.\\xf9\\\\\\xf64{\\x01\\xe3\\xa5\\xf8\\xf6\\xfe\\x04N\\xc4\\x99D\\xe1\\xde\\xf2\\x81;,#B\\xb9\\xf2\\x91\\x97+\\x90\\xec\\xf7\\xdb\\xf7\\x84\\x98\\xf2n\\x93M>\\x91/iX\\xf0xM\\xbe\\xbdE\\x81\\xe3\\xf0\\xefJ\\xb7\\xfb\\xfc\\xd5\\xb5\\x8f\\x9d\\x93\\x187\\xb6\\x1bv\\x82\\x9ff\\xec\\xf7qJ\\xfc\\x98\\xf4\\xf2\\x00\\x16#\\x8f\\xc1;n\\xbb\\x0c\\xc4|\\xf7Ib\\xfe\\\\\\xe3\\xd7_\\xcc~\\x11B\\xbf\\x0f\\xfer\\x0fK</Q\\x00\\xc0\\x8b\\xf8\\x81\\xf4v\\xc5\\x88\\xec#xX,\\x8c\\xe9\\xb9\\xf7C\\xc92\\xb9~s\\x8d\\x1cMLv\\x939\\xe6\\x1e\\x81s\\xf4SP\\xe6\\xd5\\xc6\\xaf\\xc6\\x9e\\x0f\\x11\\x00G\\xf1v\\xc5\\xa0\\x1f\\x07\\xf10\\x82\\xe7\\xde\\x7f\\xe4\\xa2\\x7f\\xae\\xdf\\xef]\\x0f\\xb9\\x15h\\x96[\\xba\\xcd\\xed\\xf0d\\xc7.\\xdd\\xf7\\xf6*p\"\\xce\\xe1\\xed\\x8a\\x91\\xdd\\x07\\xeb\\xb0X\\x18\\xbes\\xef?,\\x15C\\xf6\\xbb\\xa18r\\\\n\\xc1^\\xb2w\\x01`\\x12\\x0e\\xe1\\xed\\x8a\\x11\\xdcG\\xead:\"\\xea&cz\\xb2\\xa2\\x93\\xec\\xd7x+\\x14\\xc7\\x0cT\\x897\\x9e}\\x8f\\x197-\\x80I8\\x81\\xb7+\\xc6k\\x1f\\xa6\\x93\\xe9H\\xf2\\xcd\\x90h<Y1\\xa4_\\t\\xc5\\xa1\\x02\\x03\\xc5;_\\xa7\\xef^\\x00\\x93\\xf0\\xbf\\xaf\\x84Ez\\xa2\\xbc\\xbbKHb\\xb0X\\xed\\xae\\xf3\\xe5\\xbd\\xdf[\\x00\\xe6\\xe3\\x0b\\xc4\\xed\\x8a17\\xfeV\\xfad$\\xc97C\\xb9\\x02\\xc9N\\xe3\\x16\\x8cc\\xdb\\x90\\x18\\xb9>\\xce\\xe24COSU\\xb5\\xf0\\x8am\\xf7\\'\\xf0%\\x1c\\xb3\\xdb\\x19s\\x85\\xb0X\\xf2*\\x8dC\\xb6h9,\\x90\\xec\\xd4\\x15(\\x0e\\xc6\\x8b\\xfb\\xda\\x8a2q\\xc18_\\xc7\\xbe8:1\\x98!m6\\x18\\xb2&\\xa7\\xd8|\\xbb\\x02\\xa7\\xe3\\x80\\xdd\\xaexm\\xf8(\\x1c\\x16{\\xe2r\\xf2\\xcd\\x87\\xf2i\\xf3]\\xb5\\xff\\x95 \\xa6\\x96\\x1cp\\xf3\\xf4\\x15\\xbe#\\xa5\\xe5Q\\x8f`\\xb1p\\xd8\\xa7\\x8c9g\\xff\\xdd\\x0b\\x9c\\x88su\\xbb\\xe2\\xdd\\x10_\\x90O8N\\xbe\\xf9P>\\xad\\xbd\\x90\\x0e\\xba\\x00\\xc4\\xd4\\xaa&\\x1e\\x16\\xb6/\\x91\\xaf\\x95+\\x9f\\\\\\xbad\\xe1\\xb6\\xde\\xbd\\x9e\\xba\\xefJ\\xae\\x8f7i\"J\\x8f\\x00\\x1ap\\xa2ng\\t\\xd6.\\xf2\\x86\\xc5\\x9e@\\x9c|\\xd3\\x13\\xcd\\x86\\x9fV]\\x0fg\\x05\\xfd\\xe6Y\\'\\x97\\xb4\\xa8X+^=\\xbdd\\xb1\\xf7\\xb8A\\x8b\\xaaI\\xbd(9\\xbbI\\x83o[I\\x001\\xce\\xd2\\xed,a\\xda\\xc5\\xdc\\xb0\\xd8\\x13\\x82\\x93oz\\xc5\\xf2IG\\x07w1\\xbbp.\\xca\\xc4}\\xb1\\xe2\\xcax\\xf1\\xfa\\xe4*\\xdaK\\x1a\\x8d}4\\x9d\\x83Y\\xa9\\xea\\x01\\xf5\\x18\\xbb\\xc2\\xc0=89\\xb7\\xb3\\x04h\\x17a\\xc3bO\\xc0M\\xbe\\xe9\\x89\\x8f\\x8a\\xbd| \\x88\\x8b9\\xfa\\x19\\xe5&\\xae\\x7f*$\\x17G\\xa9+\\xca\\x1b{I\\x9a\\xf1\\\\z\\xc6c\\x91\\x1bsg\\xbf\\xae\\xd9\\xd9#\\xf7f\\xac9\\xf0a\\x1c\\x98\\xdbYB\\xb3\\x88\\xe0O\\x9cM\\xbe\\xe94\\x84\\xfb\\xd3c\\xb7\\x98\\xb2X\\xb16\\xb95\\xe9o\\xd9b\\xc6\\x13\\xe9\\x19\\xb9\\x1fOm\\x0b\\xf1,:W\\xafm\\x18\\xb5f,>\\xf0U\\x9c\\x96\\xdb5D\\xe4\\'\\xc8\\x86u\\xc3\\xc8\\xdb\\xd3\\xe6\\x89\\xc6\\xdej\\xb9\\xa5\\x98}w:\\x93\\x9eB\\xcf\\xc8\\x93C\\xaam0n\\xa4s1}\\x83\\x96F\\xc2\\xae\\xfb\\x87\\r \\xc69\\xb9]C@\\x7f\\xc2kX\\xd7\\x18\\xaf]\\xb1\\xe4\\xa7G\\x87\\xec\\x865\\x8c\\x89\\x15\\x18\\xd2\\xa6Qn\\xf1\\x1b\\xc6\\x90{\\xbeI\\x9d\\x0f\\xbdjxq_\\xfd+\\xdc3\\xd9e\\xab\\x04|\\x1e\\'\\xe4v\\r\\xd1\\xfc\\t\\xaca\\xdd\\xe4\\x9b!\\xbd\\xc0\\xb9\\xc1\\xbaa\\x01C~\\xe2\\x9d\\x8d\\x14\\x85\\xcb\\x9b[\\xff\\xd9c\\x08\\xcd{\\xdc\\x96Y\\x14Wc\\xaa\\xb6\\xde\\xe7\\xad\\x18p:\\xce\\xc6\\xed\\x1a\\xe2\\xf8\\x13R\\xc3\\xba\\xfe\\xcd\\\\k\\xc5\\xd8}h\\x98nX=\\xc7M\\xb6\\xad\\xa2\\x10/\\xda\\x90f\\xe7Y\\xfc\\x94\\xf5\\xd5(\\xeeI\\xcf\\x17\\x1b\\xbb\\xb0\\xc6\\xae\\x85\\xc5\\xab\\x07\\x9c\\x82\\x83q\\xbb\\x86\\x00\\xfd\\xc4SK\\xdd8\\xf8&k\\x1d\\x17\\xa3\\xc7^l\\xb5\\x92\\xcb\\xf5\\xee\\x90to=\\xdf\\xe2\\x9a\\x84\\x03\\xcb\\x15\\xb6\\x94i\\xd0\\xd6\\xec[+\\tl\\x8b#q\\xbb\\x86\\xb8\\xfcDR\\xbdn.\\xe0\\xc6\\xb5\\xce\\n\\xcd\\x03o\\xb26\\xc9\\xe5\\x9a4\\xaao\\xdc\\x9a\\xc5\\xc5\\t\\xa7\\x99,,\\xd6a\\xd4j\\x17\\xfb\\xcd\\xf9\\xc6s\\x01\\x86\\xe00\\xdc\\xae!\"\\xfb\\x18Zu7\\x84\\xe2\\x8a{\\x06\\xe5Qw\\xd5X\\xf1Z5?\\xc1;\\xe5\\x96K\\xac\\x89e\\x97\\x0e\\xd9!\\x96~\\x8dc\\x06\\xee\\xc41\\xb8\\xdd\\x90X\\x1cS\"\\xac\\xe5\\x86x\\xc5\\xa4\\xa5\\xc8yfm\\xef\\xb7\\xa7\\nB\\xb9\\x05\\x0c\\x97+YF\\xac\\xe7\\x90=Sl\\xd3\\x15P:\\xe2\\x11\\xe3r\\x1c\\x80\\xdb\\r\\t\\xc41%\\xb6\\x8a\\x1e_\\x8f\\xc2\\xa3V\\xa0m\"\\xf6\\xde\\xf5\\xcbL\\xe0n\\xb3H\\xaeg\\xb8t\\xb9\\x05\\x17\\xcb;d\\x0b\\xe9\\xfd\\xfaO\\x95\\x8ex\\xe2\\xb8\\x16[\\xffjC\\xe2oL\\x0f\\xa9\\xa2\\xd3\\xb7\\xe2\\xef\\xd8\\xb97\\xccb\\xc6\\xe2s\\x99\\xd5\\xd2\\x9f\\x82[\\xcf\\\\\\x81x\\xa9\\xfb\\x1f\\xa8hS4\\xf8|Z\\x1c\\xf3\\xef/\\xe0\\x0e\\xec\\xf8\\xab\\x85\\x01Q\\t\\xd9\\xb5\\xf4H\\x9a\\x8b\\xce\\xb35\\xccN\\x8c-\\xd7B\\xed\\x14F\\xadsh\\xd92~R\\xdb\\x13\\x89\\xd7\\xbc\\xff\\xc9\\xea[.\\xfc\\xb4\\xd8\\x17[\\x02\\x97`\\xa3_-\\x0c\\x85.\\xea\\xd9\\xa3\\xb0\\x0f\\x91\\xb9\\xf2z\\x00UB\\xf3\\x0c\\xb5\\x93\\xca1N\\xd6\\xde\\xdd&f\\xaf\\xff)\\xda\\x1e\\\\r\\xf5\\xfa\\xf7@\\xd8\\xach\\xadj\\xbf\\xf1pq\\x03v\\xf9\\xd5\\xc2 \\xe8B\\x9e1\\xfe>\\xc11Y\\xbe\\x18:\\xf5\\xb8<P\\xedtrr\\xed\\x88\\x8a\\xc6\\xee>o\\xde\\x03]\\xa0\\xe1!&\\xe7\\xdb\\xbf\\x19\\xc2fEkq\\x8fJwG?\\x0e\\xc0\\x82-~\\xb50\\xfc\\xb9xg\\x0c\\xbeOdL\\x96/\\xc6\\xcdbP\\x1e\\xc22\\x17K\\xd7\\xb9vD]\\xe3\\xd2\\xe11\\xe9\\xb9\\x8fe|\\xac\\xc9\\xb9\\xf4o\\x89\\xb0\\xd9\\xb05e\\xe9\\x92\\x9d\\x1e\\xb1\\xd4@3\\xf6\\xf7\\xd5Dp\\xac\\x8d\\xdaqyK\\xc4\\x14\\xb5f\\x04\\xd9!\\xd1\\\\Y\\r\\xd1\\x94q\\xdd\\x903c\\x0f\\x0cW|\\xca\\xc9Y\\xf4\\xef\\r\\xdfl\\xd8\\x8ee\\xb9D\\xbfG\\xac0\\xd0\\x86\\xcd}\\xaf8\\xd2\\x19c\\xee\\x13\\x13\\xe3\\xf2\\xb5\\x11vFxm\\x1bUH_\\x07\\xd1\\x9a\\xd2]\\xb2\\x1d\\xffiU\\x17^\\xff\\xbc\\xec\\xf4\\xe1M5oRC\\x14W\\xc6\\xf8\\xec\\xaa\\xb86E\\x0b\\x96UZ\\xb9a\\x80\\x17\\xb1\\xad\\xef\\x15\\x869\\x1f\\xe0\\x8c\\xd1\\xf6\\x89\\x86m\\x812\\xeew 1\\xa4\\xda\\xf6\\x8b+ \\x1aTV\\xa0\\xd8TRn\\xc0JG\\xbbi\\x9b\\xb8n\\xb7\\xc9\\xd6\\xee\\x13\\xa7sY\\\\\\x83\\xa2\\x05\\xcb\\x9a$;\\xddv\\xe7\\x00m\\xd8\\xd0\\xf7\\nc\\x9c\\x0fm\\xc6P\\xfb\\xc4\\xc1\\xb8|ml\\x1d\\x1eR\\xc5\\x90\\xaa\\xda/N?n-\\xd9]\\xb1\\x9dXn\\x9c\\xb9\\xa6\\x86\\xaf\\xdbz\\r\\xab\\xf4\\xd8a\\xfa\\x96\\xf1\\x8bq\\xf6L9f\\\\\\x84\\x0fo!\\xc0c+\\xdf+\\x0cp>\\xa8\\x19\\xe3\\xec\\x13\\x01\\xe3\\xf2\\x96\\xe0\\x18\\xf7;D\\xdb`\\xbc\\xda\\x89{\\xa2\\x96\\xfb\\xd4\\xd8\\x8e\\x10\\x8fSog\\xe0\\xa2\\xed\\xa0m\\xd1\\x9c\\x1d\\xd6\\xc12\\xf8p\\x9c\\xcd\\x93M2\\xae@\\xae\\xd3\\x8fm$\\\\\\x8b}|\\xaf0\\xba\\xf9\\x88f\\x0c\\xb2O\\xf8\\x8b\\xcb[\"c\\xdco\\xbf\\xb6\\x918\\xc6);\\xa2A{EE<H\\xbd\\xd9Q\\xcb\\xb5\\xb3\\xaa\\x85\\xdddA\\x8ac~\\xc69d\\xdb\\x84\\xec+\\x90\\xeb\\xfa\\x86M\\x85oc\\x07\\xdf+\\x8ck>\\x96\\x19\\x83\\xac\\x12\\x94-11\\xee\\xb7S\\xff0B\\xaen\\xb1\\xc1\\\\]\\xbbx\\x84\\xc56\\x87\\xac\\xd5\\x89\\x8eX\\x19\\xfb \\xfb7\\x8fP5\\xfd\\\\\\xef\\xd7\\xee.|\\x00{\\xf7^aDsQ\\xcc\\x1e^\\x95\\x88\\\\\\x8c\\x86\\xa2J\\x7f\\xf4\\xec\\x1fC(\\xb9\\x0e\\xa2A\\xa5z\\xcc\\xd2\\xa0\\xa3\\x0f\\xe9\\xf7\\x17\\xfeJ\\xae\\xd5\\x0e\\xabT\\xdc\\x18\\xcf \\xab\\xb6PQ\\xc3\\xdcs\\x03`\\xb3\\xe1D\\xec\\xdaK\\x89@\\xe6\\xe2\\x97=\\xb6*\\xe1\\xb8\\x18\\x07\\xe3~\\x7f\\x7f5\\xa9\\x1d\\x802\\xc7\\xdc\\xa4D\\x83J\\x0b\\x8f\\xb0Jq\\x84\\xb9\\x06\\xf5\\x89\\\\\\xce\\xf2\\x1c\\xdf\\xa2\\xef\\x10?<\\xcb.\\xaa\\xd20k6\\x1e>\\x83-{\\xa90\\x8a\\xb9\\xc8U\\x15X\\x9fH\\x17\\xd7*\\x06AQ\\xa5\\'h\\xd66\\x95\\x9bcXQo3\\xd7\\x82\\x17\\x0f .\\xaf\\xf4\\xf5(N\\x04^\\xed\\xe3X\\xc620\\xbdL\\xad\\xe6\\xc9&\\x87\\xc1\\x0e\\xc4Y\\xd8\\xaf\\x97\\xea\\t\\xa3O\\x98\\x8b\\x1b)F@Q\\xa5\\'b\\xda\\x9b\\xcaMVT\\xd1\\x1b\\xcc5\\xe2$\\xbb\\x8e\\xcb\\xfbb\\xb5\\xed@\\xa1,\\xe6\\xe3\\x95U\\xd5\\x07V\\xdc\\t\\rz\\xa6\\x99\\xdb\\xab\\xc0\\x11\\xd8\\xac\\x97\\xea\\x89\\xa1O\\x8ck\\x08\\x7f\\xa2Js\\xb8\\xb4\\xb7\\x93\\x9ci\\\\^o0\\xd9\\x88\\x97\\xecZ)\\x9f\\xd3\\xbc\\x14\\xb0\\xac\\xf6+\\xcb[\\xdc6\\r\\xfbD\\xd19G1\\x186$N\\xf1\\xff~\\xff\\tt[\\x16\\xf8\\xec\\x017\\xbe\\'\\\\\\xe1\\xb8\\xbcr\\x9d\\xb8\\x8f\\x94O\\x93]+\\xe5\\x93\\x92C\\x82\\x9d_@\\xe7\\xf7:E\\x7f\\x8e\\x93(C\\xf2\\x83\\xd1\\xc7\\xfc0\\x16\\xeb$zY\\xbf\\\\@\\x9b\\x15\\xc7\\x03\\x1b\\x8a\\x83\\x94\\x8bb\\x96\\xc8\\x15\\x06;Q\\xde\\x12m\\xc3*m\\xd1\\xd9\\xd8ir.\\xc9\\xc2qIW,Y]0\\xb6\\xa6h[\\x01\\x14\\xe9Oa\\xf1\\xb2+\\x83\\xf1#)\\xee\\x19c1\\xa7\\x7fja/\\xecO\\x1c\\x81mz\\xa38 \\xb6\\x05JQ\\xde\\x12\\xf5\\xfa\\xa3\\xa4\\xa5\\xd3\\xe4D\\xec%\\x8br#\\xb7\\xb4\\xd66k\\xb4\\xd1\\x9f\\xc8\\xcag\\x91\\x1b\\x89\\x1fCq\\xe7\\x18\\x8b9\\x9d\\x93\\x12]\\xb0]\\xb1?\\xfe]\\xe9:q(<(T\\x15\\x83\\xac+\\x90\\x9c`r\\x8eqI\\x8bdS\\x8e\\xde\\x9a\\x1f\\x83\\xf3{\\x8d%\\xf45\\xff\\xbbYZ\\xf6@\\x83\\xdc0\\xfc\\x00\\x94A\\x86\\x8c\\xc5z\\x88.\\x96\\xad\\x0f\\xd0\\x8c<\\xe6.GG%1\\xf88\\xa6\\'g\\xa7\\xdf\\x1f\\xb5\\x1aZsUr\\xb5\\xb0\\x86\\xfe\\x08\\xdc\\xb3\\xf3~\\xaf\\xa7\\xc9\\r\\xc3w\\xad\\x8c\\xd0y\\x86\\xa7\\x17s\\xfa\\'R\\xec\\x02\\xd8\\ny\\x0c>\"\\x0e\\xdf\\x7f.\\x8dq\\x11Yi-ws(U\\xb0^\\xf1q\\xf4g\\x00\\x16\\xc91\\xb8\\xae\\x1d}x\\x0fc\\xb1Q\\xd6,\\x0b\\xd0\\x8c<\\xe6\"\\xc9x\\xb48&6\\x13\\x83/\\x0e[)\\xf0\\xe7\\xc6\\xc8g\\x1e\\xbf\\xbf\\xfe\\x95{\\xbf\\xa1)\\xbc\\xcb=\\x17\\xef\\xf7\\xfa_\\xb9\\xa79Vn\\x00\\xae\\xf7\\xdc\\xc0\\x9cplJ\\xb1!D\\xfbk\\x96\\x05hC\\x1es\\x8bd$\\x9a\\x1d\\r\\x85Q\\xd10\\x1e\\xb6h99/W\\xc6\\xfb\\xbd\\xfe\\x97\\xaf\\x92\\xfcTi\\xed\\xf7\\xe2_\\xae|\\xb2\\n\\xb6\\xe2\\x1f\\x93\\xf3{\\xfd\\x1f\\xca\\x93\\x1d+\\xee\\xdaq]\\'\\xdf\\x8f\\x19\\x8b5\\x9b\\xdd>0\\n;\\xf5\\n\\xb9\\xb8,B\\x95%|\\x87UD\\xf9b\\xe0\\x0b\\xcbWE\\xc9\\\\G\\xc9\\x01\\xb7MJ)\\x166\\xa8\\xb7V5)\\xec#\\xf7X\\x17<P\\xcb\\xfe\\x0c\\xc5CJ\\xb60d\\xe4\\xa2e\\xb67\\xf6\\xc4\\xef1X\\xa46^\\xe7<\\xc1\\xb4\\x18\\xbe]\\x01c\\xa7J\\xb1\\xb0;\\xbdX\\xd85\\xce\\x92{v\\xca\\x13\\x1fe\\xe7m#\\xc6\\xb6`5\\x80\\x06\\xe41\\xdf\\xb7a\\xf4\\xa9\\x8a\\xdd\\xf1\\xf8\\xdd;\\xc5I\\x15\\x0b\\xd8\\x15\\xbb#\\x83\\xf9\\x00\\xf7\\x10\\x93\\xcf\\xd1?}\\xef\\xf7\\xd6hU\\xfb\\xc78\\x8cQ\\xa3\\x15c\\x9b\\xb7\\x08@3\\xf2\\x98\\x8f\\x13q\\xa7*b\\x0e40\\xaa*M\\xf9\\xd9\\xb9\\x02\\xcd\\xdd\\xc5\\xebSl\\xea\\xad%\\xc5\\x0c\\xeei*\\x0f\\xd4o-\\xef\\xf7\\xd6 =\\xbb\\xa8\\xa7\\xae\\x85h\\x7f\\xf8\\xdc\\x81N\\xe41\\x17)\\xc6\\xbb\\xd9\\x01\\xd1\\xeb\\xe9%\\x8e\\xa1\\xae\\xb5\\xc7\\xdf\\xfb%\\x11d\\xddG\\xbf\\xbfT\\xc6b\\xa1\\x86*\\xd8\\x9f\\xe5\\xb1&wZ\\x0f\\xd7\\xa9q;\\x19\\xbb\\x1e8B1\\xb0\\xe1s\\x07z\\x90\\xc7|\\xd9\\xcap\\xa3\\x84\\xe0y\\xc3p\\x9d\\xba\\xc6\\x1f\\xbfw\\x03\\x7fn\\x06\\xc3\\xff\\xb3$_\\xcc\\xfdQ,\\x19\\xf2U\\xf0I\\xcf\\x96P\\xfc\\xddt\\x83\\xf7\\xf6\\xb6\\x9bJ\\x0cl\\xf8\\xc4\\x81f\\xe41\\xb7\\x18\\x15\\x1f\\x17\\xc7/\\xbd;\\xfdS7eW@/\\xe3<+\\xa3\\x94\\x8cWo\\xd4zbg\\xee)?~oE\\x8a\\x1bl\\x06\\xd1inxc\\xc7&zye\\xe2@\\x8c<\\xe6\\xb3n\\x8e2\\x7f\\xef\\x9d\\xf2\\xcf0\\x8e\\x08\\xcd\\xb1dS\\xc5Z\\xf8\\x1e\\xbf\\x13\\xbc\\xdf[\\xff\\xe1\\xb6\\xc7\\xe3\\xf7V\\x87\\xb8}\\x8b\\xb6Z\\x9d\\x86\\xcc\\x17\\xe8D\\x1e\\xf3M\"\\xbe\\xcc\\x88q{\\x86\\xb0?\\x97\\xcc\\xdf\\xc9Z\\x86\\xf7,\\x8b+\\x1c\\x97\\xcf5\\xf5\\xd4\\xc2\\xb5\\x94=\\x90\\xdcK\\xb5,{\\xcc\\xd8K\\xff`B\\xf1\\xc0\\xc6\\xb6\\x0f4 \\x8f\\xf9\\xbes\\xef]c\\x88t\\x13|\\xb8\\x97\\xae\\x96\\xa5\\xa2/\\xec$\\x0b\\xe7>}\\xde\\xc7\\xe5\\xf4\\x9d\\xf0w\\x0fv]\\xf0\\r;m\\xcd\\xe6\\x8c{\\xe9\\x9c)\\xd0\\x89<\\xe6\\x83\\xee\\t+.\\xa4\\x8a\\xa8j\\x9c\\xfbS+.\\x1f\\xb6)>}\\xde\\x07\\x9cp\\xab$\\xb9\\xfd\\x13o0\\xbb\\xe2~\\x8b\\x1bOV\\xe9\\x19CRq`\\xc0J\\xe41\\x1f7)\\xe2\\x0c\\x8f\\x8c\\xb5\\xdc\\xbc\\xe2\\xa9\\x19\\xc3\\xfa\\xf3\\xa6^^|\\x9al\\np\\x1b#\\xf4{7\\xe06\\x92\\xf7{]#\\xd9\\xa0.7\\x86\\xdf_\\x83\\x88^\\x86\\xb7\\x0f\\xd8\\x91\\xc7|\\xcdg\\x02Jn\"\\x7f\\xee\\n[\\xa4v\\xc5\\x92o\\xfa?\\xf4\\x85\\x12\\x9f&{\\x04b\\xcaVq\\x9bJ\\xdfu\\xa3\\xac\\xd9\\xae\\xa2\\x975S\\x03b\\xe41_6)\\x9cU\\x05\\xac\\xb6\\xe8\\x96\\xab\\x95\\x9bQ\\\\\\xde\\x95L\\xbe\\xe9\\xff\\xd0G%>\\x9d\\xb4\\x8c\\xf8*}\\xc3\\xb8\\xdd\\xe5\\xfd^\\x97\\x14[\\xfb\\xfdUb/i\\'\\xc66\\xa3\\x0b\\xa0\\x88<\\xe6S\\xbe\\x11Gr\\xb3\\xc8\\x05\\xf4\\xb8\\xbc+\\x99|\\xd3\\xff\\xa1\\xb7/>\\xcdu\\n(\\xdc\\xb6y\\xfc\\xde\\x8a\\xb8\\x9d\\xe6\\xfd^\\xe7)\\x8d8\\x96\\x16<{I\\xe0 \\xe41\\x9f\\xa5\\xc7\\xbe\\x9c\\xb6Z\\x03%C\\xed\\x9f\\xdb 3\\xb0\\xb8\\xbc+\\xa9\\xc4k=\\x94\\x8bOs\\x9d\\x02v\\x7f7o!\\x11\\xf1~\\xafg\\x1a\\xde\\x8b\\x98\\xda\\x9aY\\x00!\\xf2\\x98\\xef\\xd80\\x82\\xd4\\x0e)Y^\\xbf\\x03\\x04WXiD\\x1f\\x8f\\xf8\\xb4\\xaa_@\\xe7\\xb6SqG)\\xfbS\\xaf\\x1bW,\\xf65\\x90\\xe8K?e\\xc0p\\xe41\\xdf\\xb42\\x8a\\xf5s\\x81\\xcf\\xfb\\xbd6\\x8b\\xab(\\x8dT\\xb5\\x7f\\xd6\\x02\\xe2\\x14n_y\\xbf\\xd7\\x91?\\xc7 \\xb3Q\\x95Z\\x8e}{\\xdbK\\x02G \\x8f\\xf9\\x88Cc\\xd3\\x9f\\x98\\xad\\x8e\\\\\\x8f\\xf8\\xbf\\xbfJ\\\\#\\xa2\\xb0~%\\xe8\\x9f\\x02\\xfd\\xdc\\x1e\\xf3~\\xaf\\xffe\\xdf\\xdb\\x9b\\x10\\x139n\\xfc8\\x1ay\\xcc\\x07\\xe5\\x82\\xe3nz\\x82]g\\x12\\xa3T?e\\xf5\\xf0\\rn\\xbfy\\xbf\\xd7\\xff\\xe1\\xb6h\\xbcK\\xe3b!eW/\\xa0\\x8f\\r\\x98\\x87<\\xe6\\x0b\\xde\\x8d_m\\x96\\x8dYt\\xe4\\xa2\\xad\\xd25\\xb1\\x18oI\\xee\\xbd\\xdac\\xb2O(\\xd8g$\\xf8<\\xf2\\x98\\xaf\\x19\\xfb\\x8dm\\xc6\\xbd\\xee\\xc6\\x10\\x0f#\\xd9Q\\xae\\xf7\\xdaY<\\xf4\\xe9\\xcc\\x98,`\\xe7v`\\xbc\\t\\xc5y)\\xeeR\\xcb\\xe9\\xb0\\x94iP\\x1c\\x1b0\\x03y\\xcc\\xf1\\x9aC\\x921\\xe8\\xfc\\x89\\xac\\xff\\xf1{k4\\xd7\\xb2}\\x16\\x93\\xe6;ov@\\x95\\xe4V\\xec\\xcc<^\\xd9\\xde\\x93\\xb2%@ \\x8f\\xf9\\x94\\xe1\\xd1jv$r\\x03\\xce\\x8d9\\xf9\\xbe2\\x9e\\\\;^\\xcf\\xa7\\xc0b\\xb9\\xcdo<\\x8f\\xc6b3p\\x94\\xb0\\x1ey\\xcc\\xd9f\\x04\\xace\\x91\\xa8\\xb6#}\\xb2\\xcd!\\x9e\\xc8\\x8b\\r\\xb9m\\x99\\xdc\\x99\\xcdG^\\xb46#t\\x00\\xaf \\x8f\\xf9\\x8ed\\xd4\\xdbV8ZKn\\xa1\\x87]}\\xee\\xcf\\xa7$18K\\xf3\\xfe\\xdc$M![\\xc2\\x02\\xe41X\\xcd\\x85\\xe6\\xda\\xe8<$\\x89\\x01N\\xf4\\xf7\\xb8\\x8c\\xd9\\xc3\\xa2\\x9dII\\xc6\\xa8\\xd1\\x02F\\xe41\\x07[\\xff]gM\\x84\\xaa\\x8a\\xb6\\xbep\\xaeL\\xd8T\\\\\\x86\\x80\\x8bS\\x8c\\xda\\xabU\\x87k\\x88\\xf5a\\n\\xb7!\\x8f\\xf9\\x88yWr[\\x18r\\xb5\\x86\\xc4/\\xd1H\\xd54\\xf5\\xc2\\xf3V\\x0c\\x98\\xc1\\xed\\xd8S6-\\x87\\x0b+\\x91\\xc7 \\xa13\\x0c\\xf5d0a\\xd7q\\x12cOk\\xc4GC\\x92*\\xe0u\\x9dg\\xd3\\xe1h\\xe0c\\xc8cN\\x15F\\x1fchk\\x0eX\\xf6\\x8a\\xaeds/E\\xa2\\xe5g\\xd6q\\x8f\\xc5\\x05\\xe9\\xbf\\x0c\\x80s\\x91\\xca\\xe0K\\xc8c.5\\xe3\\xa6\\x1f\\x1b\\r\\xf5\\xd6\\x9e\\xe1Y\\x92\\x18Q\\xa6aj\\x00\\x80=\\x91\\xc7\\x1ci\\xc3\\xefO\\xa7$1\\xc0\\x97\\x18\\x93\\xf2\\xe2)\\xe0\\x98\\xe0\\\\\\xe41\\xc7\\xdb\\xf3\\xd7\\x057\\xaa\\xe6\\x08+\\xde\\x11\\xed</-\\x91\\x97\\xe8\\x8c\\xcfk;h\\xc6Z\\xc0\\xfe\\xc8c\\xce\\xb3\\xff\\xdd\\xdc\\x1c\"\\x93\\x15\\x93\\xf3M\\xbe)\\xaa\\x93\\xc4\\xe0\\x12m\\xa9\\xccT\\xe1\\x908\\x89\\x98\\x8a<\\xe60\"\"4g\\x0c\\x93\\xb8\\xf1t\\x0eI\\x0fy\\xbe\\xf1d\\x19\\xd1o\\xae\\x9d\\xce\\xe1\\x01Gs\\xe7\"w4\\x80C\\x91\\xc7\\x1cl\\xe5\\x95l\\x89}\\xfd\\xe3\\x11\\xbd\\x88\\x06\\xfdK\\xcbHreHb\\xf0UU{\\xdb\\x1f\\x10Q\\xc5r\\xb2\\x9aMm\\x1c\\x97#\\x8f9\\xc9\\xe2XP\\x15\\x19\\xdbR\\x04eF\\xae\\xc1\\xf8\\xd3\\\\\\xf9\\xb6\\xde\\x81k-\\x08&\\x9cJ\\xacA\\x1es\\xaa\\xfdcDg\\xa0\\x14\\xd5\\x93i\\x8d\\'\\x96\\x82\\\\\\x07\\xb0p\\'\\xc5xv\\x80\\x9d\\x91\\xc7\\x1c\\xe3\\xaa\\x10\\x13\\xe7\\x1c$1\\x80\\xaem\\x93/KeH\\x920\\ty\\xcc\\x19D\\x08x\\xe5V\\x1e\\x1e\\x86\\x94\\x06\\x8d}\\x19\\xd7\\x81$\\x06\\xf0\\x96e-\\x1eG\\x0f\\x0b\\x90\\xc7\\x9cgehx%\\x0c5w:;(\\x03\\x9b+\\x9e\\x1dwFD\\x99\\xe4;\\xbf\\xbf\\x80\\x13\\x90\\xc7\\x1c\\xe0\\x93a%7)\\x17R\\x8d\\xf3%\\xf8\\x02\\r\\xdcI)\\xa6;\\xc0A\\xc8c\\x0eC\\x00\\xf2X\\x07\\xa0\\x99H\\xfa\\xc9lp4\\xf2\\x18T\\x18\\xf5\\x9bG\\xae\\x1d\\x17L\\x1b\\xbapUD-\\x822PE\\x9c \\xf1\\x12\\xd8\\x19y\\xcc\\xee\\xc2\\x80\\xc2\\xf5\\xec\\x85\\xeb\\x10\\x07\\xdc\\xb6d\\x08\\x00p\"\\xf2\\x18\\xec\\xc2\\x98\\xa5\\x15\\x93\\x98\\xdf_\\xffal\\x16\\xf8\\xb6\\xda\\x83\\xc0\\x97\\x01\\x9c\\x82<fk\\xf7\\x84\\x92\\x86l\\xc3\\x92\\xc4\\x00\\xb7\\xc9\\x9d\\x02\\xf2\\x12|\\x15y\\xcc1\\xce\\xba\\xa4\\x95\\xa0Y\\x1bO\\x93\\x13W\\x92\\x18\\xe25.GB\\x8f\\xab\\x90\\xc7\\xeck\\x93\\xfb\\xb8?&\\x16[\\xd0S\\x90\\xf0M_R\\x14so>-\\x08\\xb9\\xf7\\x01\\x84\\x92\\'\\x85\\xaf\\x048\\x02y\\xcc\\x19^\\xbc\\x8fg\\xc72}j$\"@\\x83\\xda\\x83\\xe3\\x8f9\\xc7\\r\\'\"\\x8f\\xc1xm\\xa9O\\\\+\\x19UE1Qfv\\xd6\\x05\\x9c\\xa2\\x98\\x94\\xc4\\x058>8\\x11y\\xcc\\xa6>\\x13P\\xf4`Z\\x0c\\xb5b\\x1d\\xf4$F(6\\x0e\\\\\\xae\\xf6\\x00\\x02\\x1b\"\\x8f9\\xc0\\r\\xf7q\\x1c.\\xdd\\xac\\xab\\xb2\\x16\\x00U\\xfc\\xf9\\xe2X\\xe1t\\xe41;\\xba\\xe4;\\x90\\x12@\\x93\\x1f\\x15\\xd3\\x9aK\\xd6\\r\\x18KOe8V\\xd8\\x1cy\\xcc\\xee\\xde\\xfd\\xb6d\\x0fa\\xc3\\x83\\x9d\\xde`qY\\xde]7\\xe0,\\xee\\xbcpdp(\\xf2\\x18d\\xb5\\xa5&\\r\\xb5D\\x15\\x17O\\xe3w~\\x7f\\x01\\x18\\xa7\\xed\\x8c\\x03[!\\x8f\\xd9\\xce&\\x91eH&1*\\xff \\xad\\x01j5\\x9c\\x9a\\\\\\x19\\xd2\\x1d\\xec\\x8c<fko]\\xd8\\xc9\\x08\\xb8l0z\\xfc}kM\\x80ML=\\x02\\xb9\\xc6Ie\\xb0-\\xf2\\x18\\x14\\x84q\\xcd\\xfd\\x1d\\xfa\\xbd\\xdb\\xe4\\xa9^\\xccZ\\x08\\xa0\\xc0\\x10\\xc93\\x1b\\x9f\\xaf\\xce\\xa3\\r,F\\x1e\\xb3\\x17\\xeel\\x9d\\x12aY:`\\x14c\\xc6\\x03\\xec\\x80<f_7|+\\x12\\x911\\x9e\\xb21t\\x16\\xdb\\x01\\xe0p4\\xf0=\\xe41h\\xd7\\x19\\x13\\x939\\x8a\\x92\\xb8\\x18\\xbb#R\\x03\\x93\\x18\\xbfW\\x00+\\x91\\xc7ld\\x93\\x18\\x11\\x0ec^N\\x10O\\xb6\\xb9/b+`\\x17\\x1f\\xb4\\xa9\\'\\x88\\xef\\x15\\x98\\x8d<fS\\x1c~\\xc1\\xb8 \\xac\\x1b\\x0e\\xe5\\x92\\t\\xef\\xf7zW\\xb5#\\xdc\\x7fF8\\x1dy\\x0c\\x86\\xf9\\x1b\\x84\\x131\\x8b@\\x06\\xd8\\r9/z#\\xa4\\xfb\\xf8\\x12\\xf2\\x18\\xcc20V\\x12vq\\x15=\\x0by\\xfd\\x8b\\x01\\xdfL\\xb0\\x15\\xf2\\x98]\\x84\\xa1\\xe1\\xc5k\\xfb\\xad\\x08\\xd5<eB*\\xbeA\\x1c\\x81\\xd9\\x1b\\x9b\\xef\\x06\\xf8\\x0c\\xf2\\x18\\xfc\\x97\\x08\\x9d\\xeb#]2v\\xdb\\x87Ah\\xc6\\xd1\\x16\\xa72\\xa1\\xda\\xbeV\\x8e\\r\\xd0\\x91\\xc7\\xa0\\xcb\\x90\\xd4Ai\\x84\\xd4\\x04WY\\x99\\xcap\\xb8\\xf0\\r\\xe41[\\xd8\\xe1\\xcb\\x8d\\x18\\xc3\\x0e1\\x8e8\\x8b\\x0b\\xadLeB3:\\xda!\\xb2\\xe1\\xf3\\xc8c\\xb6\\xf3\\xca\\xe5=<\\x89yZ\\xb0\\x07\\xb2\\xe1c\\x00\\x0e\\x15\\xa72\\xf6s\\xe4T\\x15nV\\xdb\\x0b\\'\\x1a\\x93\\x90\\xc7\\xe0e>\\xba\\x89\\x98h\\x0cyk\\xe25\\xb0^|\\x04\\xd8\\xed@\\x12y\\x0c\\x1as\\x08\\xc5\\xd3\\x821\\xf2\\x0e\\t\\xd0\\xfd\\xc3\\x06\\xb6\\xb2>\\x95\\xc9\\xb5\\x9f;\\\\\\xb3\\xc7\\x03X\\x90\\xc7\\xbc/\\x8c\\x05\\xaf_\\xc6\\x8b\\x07\\xe0\\xba\\x8bC\\xe1\\xeb\\x8b\\x00l\">\\x0b\\xc5pAn\\x81\\xdb\\x90\\xc7`\\x96\\xd9\\xf1\\x94x\\x8d\\x1b,N\\xeb9V8\\x0ey\\x0c\\x06\\xab\\n\\xbbq\\xd0l\\x8b\\xda\\x8bc=\\xb0\\xd2\\x0e\\xdb\\x9b#\\x86m\\x91\\xc7\\x00\\xc0\\xee\\\\\\x1a\\xe1\\xfd^\\xff\\x15\\x7f\\rX\\xffk\\n\\xbf\\xdf\\xe0u\\xe41/\\x0b\\xa3\\x80\\x08RP\\x10=\\x01G9\\x08\\xcd\\xf1d\\xe0\\xe1\"\\xa6a\\x01\\xf2\\x18\\x1c\\x8fX\\x89{l\\xb8\\xdb\\xf9R\\x81w\\x91\\xc7\\\\j\\xe0\\xef@\\x03\\x03+\\x19\\tP\\xeb9\\xcb\\x03\\x0f5\\xa9\\t\\x0eB\\x1es\\x91\\\\h\\x9b\\x11\\xb3\\xa6\\xc6A\\x82,\\xae\\x95\\xdc\\xfcCNDO\\xea\\xc3\\x91\\xc4\\x8b\\xc8c\\xde\\x14\\x1e\\xfe/\\xfd\\x14\\xb12\\xa8\\xf1\\x13\\x0e0\\x15G\\x0c\\x9b#\\x8f\\xc1`|3\\x03\\xd6[\\xfc\\xa5\\xc8\\xd8\\x05\\xd1\\x00\\x0b\\x90\\xc7\\x00\\x00\\xfe\\x88\\xb3\\x13~\\x8c\\xc1\\xfe\\xc8c\\xb0\\x0b\\xbe\\xe1\\x01\\x00j\\x91\\xc7\\xbc\\x86\\xfb\\xb8\\x1f_\\x16\\x01\\xe0r\\xe41[\\xf8\\xde}\\\\;#2\\x12\\xe0,\\x9cYl\\x82<\\xe6^\\xfe\\x07\\xa1!\\xff\\xf5@Q\\x91$\\x06\\x00\\xb0\\x06y\\xcc]\\xe6e\\x0c\\xae\\xe5\\xc7\\xef\\xad\\t\\xf8\\xc78\\xdcl\\xc8\\xb7\\x8e*\\x9c8\\xec\\x8f<\\x06/k\\x0e\\xc7k\\xe28\\x00`g\\xe41\\xefX\\xff\\xbdjOUs\\xe7\\xab!0\\xd5\\xd8#\\xc6\\x81\\xc5\\x1a\\xe418\\x12?\\xc6\\x00I\\xc3\\x8f\\xc6\\x90t\\x84\\x03\\x8by\\xc8c\\xae6\\xef\\x0b\\xd3\\xf0\\x96\\xf9n\\x07\\x00\\x88\\x91\\xc7\\\\\\xe7\\x03_\\x8c\\xf8n\\x07\\x00\\xf0\\xc8c0\\x1e\\xbf\\x9d\\x00\\xc7\\t\\x8f-_\\x15p\\x10\\xf2\\x18\\xfc\\x10\\xb9\\x00\\x8c\\xc2\\x97\\x19,C\\x1es\\xa3\\xa9)\\x0b\\xf1\\x0b\\x98\\xc1r\\xb2\\xf6\\xfc6\\xc2w$LE\\x1e\\xf3\\x02~\\xbf\\x05\\xd0\\x83\\xb8\\x01<\\xc8c\\xf0\\xc7\\xa8\\xb08\\xe9\\xc7\\x18~\\xe3\\x01\\x8aF\\x9db\\x92$\\x9c\\x85<\\xe6R;\\x84\\xaa\\xb61\\x10dq!Ry \\x87<\\xe6R3\\xc2\"\\xa1\\x16X\\x80T\\x1e\\x08\\x91\\xc7\\x00\\xc0\\xd6,\\xdf\\x10Hnp-\\xf2\\x18\\x8c\\xc1\\x8f1\\xc0\\x02O\\xbe\\xc2\\x89\\x03<\\xf2\\x98\\x1b\\xc5\\x11\\x90\\x98\\x08`\\x940\\x9e\\xf0C\\x11f#\\x8f\\xc1\\x00\\ri\\x10\\xd1\\r\\xb0\\xe0;\\x06\\xa0#\\x8fy\\x13w9\\x00\\xbb#\\xfeQ\\x89\\xc4\\x0b\\x8b\\x91\\xc7\\xe0gl\\xf4\\x19\\x98\\xa2\\x11\\x16\\x81C\\xf1U\\r\\x0b\\x90\\xc7\\xa0\\xd7\\xca<\\x83\\xb0\\x08\\x0c\\xc4\\x81\\xc2\\x07\\x90\\xc7`<Kp4f?\\xfc\\x18\\x03\\xcc\\xc3\\xf9\\xc2\\x07\\x90\\xc7\\xe0\\xbf\\x86\\x04\\xb5y\\xdf\\xf0\\xf8\\xee\\x88\\xdb\\x90g\\x00E\\xe41\\xb7{19 F\\x03v\\xe4\\xf1@\\x12y\\x0cF\"\\xd4\\x02\\x00V\"\\x8f\\xb9\\xce\\xd8_A\\xf8M\\x05\\x98\\xe4\\xc4\\xc3E@\\xc0z\\xe41W\\x8b\\x7f>\\xd9*\\x0c\\x11\\x13\\x01/<\\xaa\\xa7\\x9c\\x0b~\\x9d\\xc5\\x1a\\xe41\\x18\\x16n\\xc6\\x86-\\x11\\xac\\x89\\x89\\xc0X|O\\xc07\\x90\\xc7\\xe0\\x00$1\\xb8\\xcd\\x89I\\x06\\x89\\x11^A\\x1e\\x83v\\x84-`\\x810\\x8f?\\xe5\\xd0\\xf1\\xdd\\x03\\xcb\\x90\\xc7`\\x8c\\xb6\\xb0E&\\x04\\xc48\\x17\\x80\\x1dy\\xccj\\x9f\\x89P\\xcd\\x13\\xe1\\x8b\\x1a`\\xc7y\\x01t\\xe41\\x18\\x80P\\x0b,\\xb0\\xd5\\xb7 ~4\\xc2&\\xc8c\\xf0G\\x98\\x88X\\xc2\\x13!\\x0c\\x98\\xc4x\\xb8\\xde\\xfd\\xf2\\x90\\x1c$\\xdfg\\xf0\\n\\xf2\\x18$\\xe8\\x91\\xb43\\x89!\\x07\\x02\\x8c\\xce\\xca\\x0c8\\xdax\\x05y\\x0c\\xd2\\xec!\\xa93\\xd4&;\" \\xe2N\\xca\\xce\\xe7P\\x00I\\xe41\\xf81\\xa6#\\xeb\\x83)?V\\xe3N\\xca\\xce\\xe7P\\x00\\x0f\\xf2\\x98\\xbb\\xe8Y\\x88\\x08\\x8e\\x96\\x94eF<\\xe5{\\'\\xee\\xc4\\xce\\x07\\x1a\\x90\\xc7\\xdc+\\x99\\x82\\xcc\\xfb\\x9e\\xd7\\xd6\\xf2\\xbc\\xf1\\x00;\\x9b\\xbd\\xf3\\xc9\\x99\\xf0\\x19\\xe41\\xa8@\\xec\\x03\\xbegH\\xceDp\\xc0[\\xc8c0\\x85\\x08j\\xf6@I4\\xc4\\x9d\\xc2\\x9d\\x1f\\x9f\\x97\\r\\xcf\\x85r\\xa8g\\xff\\x98\\x04\\x84\\xc8c\\xb0N.\\xba\\xe5b4\\xd1\\x10\\x88\\xf5\\x9f\\x0b=g\\x02\\xceB\\x1e\\x03+\\xfb7\\xc2\\r\\xbf;\\x02;\\xe3\\xc8\\x00\\xcd\\xc8c\\xb0\\x94\\xfe\\xe5\\x8fh\\x0e\\xcc\\xfe\\x81d\\xd2)\\xe3w\\x1d\\xbc\\x85<\\x06R\\x18\\x8f\\x9e\\x90\\xb7>\\xc3 ,\\xe2\\x12/\\xa6\\xef\\xf6S&\\x06\\x19W|q\\x16\\xb8\\x1cy\\x0c\\xb6@\\x10\\x04\\x9cdb\\xf1\\xfa\\xe9\\xe0xbg\\xe41(PBX\\xdbO&\\xfc\\xd0\\x02<jS\\x84\\x19\\xc7\\'\\x1c\\x03\\xc7\\x13\\xc7!\\x8fA\\x82\\x88e\\xc3\\xbf\\x8d\\x11+\\x81\\x18\\xe7\\x02h@\\x1e\\x83\\xb4\\xf5!\\x95\\xdf\\xae\\x81\\x18\\xe7\\x02\\xd0\\x91\\xc7\\x00\\xc0;j\\xffA\\',\\xd3\\x96\\xdf\\xc4=6\\xb4\\xc3\\xefF\\xd8\\ny\\x0c\\xb2\\xe2h50~\\x11\\n\\x81QF\\x9d&K;\\x9c\\\\\\xec\\x86<\\x06\\x83\\xf138`a9)\\xb92;\\x9f2\\x12\\x1d,F\\x1e\\x83\\xd7\\x10\\xef\\x00\\xaf\\xe7\\x87\\x10\\xce\\x11.G\\x1e\\x83\\xac\\x05\\xdf\\xf9\\x08\\xc1\\xb8S\\xcf\\xe1z\\xf1\\xc7\\x18\\x0e,6D\\x1e\\x83\\xb4\\x9d\\x7f\\xb8\\x06\\x8e&\\x0eW.9H\\x9eAc]\\xa3\\xdc1o>\\xfe$:X\\x8f<\\xe6^\\r\\xa1\\xaa9\\xba\\x01H2^\\xfc\\r\\xf9AxZ}u\\xfd\\xfc\\x16\\xbb G\\xc1\\x9e\\xc8c\\xeeb\\x8cD+\\xf3\\x95\\xe4\\x90\\x88\\x98\\xf8\\xaa\\xe6\\xc3\\xe5*\\x8a\\xba=\\xc7D\\xa9\\xdb<B\\xe0\\x15\\xe41WK\\x06\\xac\\x81\\xb1\\xb2\\x19\\x91\\x14\\x9fd?\\\\aIW,>\\x11\\xb5\\x07\\xd3x\\xa6r\\xc5,\\xdd\\xbd\\x12+\\x00\\xf2\\x98\\xeb\\x10k\\x80\\xb3\\x0cObj\\xab\\x134\\xb03\\xf2\\x98\\xdb\\x89\\x00\\xd7\\x19\\xef\\xda${\\xc9}/\\x04\\x0ee?\\\\\\xfa\\xe6\\xef<\\x95\\xcd\\xfd\\x02{\"\\x8f\\xb9\\x911\\x0e>\\xc5:\\xe3f3\\xa2*>\\xc3\\x9e\\xc4\\xe8\\xd6\\x1f\\xc6\\xb7\\x8e?`D\\x1e\\x83\\xff\"o\\x00^\\x97;\\x86.\\x9f\\xe8O)\\x94\\x168\\xfe8\\x14y\\x0c\\xd2\\xf1K\\xc4\\xbb\\xfe\\x00\\xaa\\xcb\\xb5Ol\\xc5\\x07\\x88m\\xdcp\\x9aj\\xabppp\\x0f\\xf2\\x98K\\xc5a\\xb1\\x18\\xf8f\\xa72\\xc0\\'U%1\\xc9c8\\xea\\xe8q\\x84\\xf1I\\xe41\\xf8\\xc3\\x18j\\xc5\\xfbk\\xbe\\xf3\\xad\\xe9\\x05x\\x97\\xdb\\xe7\\xc9\\xadN\\x12\\x03\\xe8\\xc8c\\xee5$\\xae\\xadI2\\xd6\\xf4\\x02\\x0c\\'\\xb6n\\xee\\xd0\\xe52\\x98!\\x87\\xd4\\x19\\xd5\\x0e\\xb0!\\xf2\\x18H\\xb5!\\x8f$\\x03H\\xeaIbzp$q\\x15\\xf2\\x98\\xab\\x8d\\xfa\\x96\\xb6 n\\x12\\x9aq\\x96\\xce$f\\xe0/(\\xcb\\xf2\\'\\xe0\\x15\\xe41\\xf8\\xc7\\xc0\\xe8\\t\\\\\\xcb\\x98\"\\xcc\\xc8$:\\xf3\\'\\x81\\x80\\x80\\xfd\\x91\\xc7`\\x8c\\x05\\xdf\\xed\\x16t\\x01\\xcc\\x90\\xcc\\x06\\x16$19\\x1c%|\\ty\\x0c\\xfe\\xd1\\x13\\xe0\\x94\\xba\\xa3\\xe2&\\xf1\\x17\\xfb\\x13\\xbb\\xd4\\x92\\xc4\\x882m\\xbf\\x82\\xc4\\xa7\\xa3\\xf3\\xd7\\x94\\xaa\\xea\\x9d}\\x01\\xcd\\xc8cPgH\\xc0\\xedA*\\x83\\x9d\\xf5\\'1m\\xecI\\x0c\\'\\x08\\x1fC\\x1es\\xb5dD\\xeb\\tskB$\\x81\\x18{\\x12;\\xd3\\x9e\\xc4tni{u{\\xc9!\\xd9\\x15\\xb0\\x00y\\x0c\\xba\\xb8\\xb0H\\xbc\\x03\\x9cd\\x82\\x12r\\x05\\x8ae\\x9c!\\x07*\\xd9\\x88\\xe8\\xbd\\xd3\\xd8\\xd6\\x80f\\xe41H\\xd0#T\\x1c\"-\\x91\\x97\\x18\\x8a\\x0f\\x13\\x1b2<\\x11\\xee#\\xef\\xf7\\xfa?\\x9e2\\xf1GU\\x94\\x96C\\xc9^r\\'\\xd7r\\xa2\\x81M\\x90\\xc7\\xdcK\\xc45\\x11\\xb9jc\\xeb\\xfa\\xc0\\xd7\\x19\\xfd\\x81Q\\x92G\\xc9\\xbd\\xe9\\xf97\\x85Q\\tD\\xae}!Yl\\xfd\\x99\\x05f \\x8f\\xc1\\x1f>\\xa2\\x89\\xb8f\\x0c\\x91\\x8f\\x05a\\xb1s\\x84\\xc0pb\\x13\\xfa-\\xaa\\xef\\xccQ\\'\\xc5\\xb8\\xff\\x93\\xc5\\x941X\\x86\\xc7\\xd1\\xc3>\\xc8c\\xf0\\x8f\\xfd\\x13\\x85\\xfdG\\x88{\\x88\\xed\\xe77gnO\\xbaO\\xbd\\xdf\\xeb\\xbf\\xe6m`\\xd7\\xb2\\xf7{\\x9d\\xa2\\x7f\\n\\x1c\\x81<\\x06RO\\x9c\\x15u\\x81\\x0f\\x13G\\xc3o\\xfe\\xe4y\\xf9\\x93\\xbc\\x18\\x8e\\x86\\xa5\\xccC9\\x98\\xee#\\xe5SG\\xe9\\xc82\\x06\\xbdq`1\\xf2\\x98K\\x85\\x91(\\x8e\\\\\\xe2\\x9d\\xaa\\xb0U\\x15\\x8b\\xdb\\xf4\\x0c\\x0f\\x18B\\xec:\\xbf\\'\\xe37\\xbd\\xdf\\xebH\\xf3\\xd6M\\xf6^+\\xee\\xbd\\xad\\x1d\\xe0]\\xe41H\\x13\\x11M\\t\\xb8\\xcd\\xb1X\\x91\\x8b\\xa7O_\\xf6\\xe1\\x01\\xc3\\x89\\xfd\\xe6wc\\xf2M;{\\xf9I\\x1d\\x19\\xdb\\xe1\\xaca7\\xe41h!B^g`\\xad\\xf2\\xf4\\xa5\\x8f\\x01\\x98$\\xb9\\xdb\\x1b\\x8e@\\xdb\\x8e\\xb5\\xf4\\xfep\\x9f\\xe6F2\\xa4w`\\x07\\xe41\\xab\\x85ae\\xf3\\xa0 \"`2\\x80\\xe6$?\\x1d5\\xdf\\xa7\\x1d}\\x84\\xc0p\\xc9SPu4\\x92\\x8cU,\\xbd;\\xee}\\xcf\\xfdm\\x1c[\\xee}][-`,\\xf2\\x18hD\\x9c\\x8a#\\xe6#\\x17L\\x7f/\\xfe\\xc3\\x15S\\x1a\\t\\xc5uCO#\\xa2\\x98\\xb1q\\xa0\\x81\\xd8]~\\xef%\\xdf\\x9c\\xc1\\xd2\\xbb\\xee\\x19[\\xc31qUD\\xady3\\x05\\xaa\\x90\\xc7\\xa0@D\\xab0\\x96Y\\x02Y\\xb2\\x8c\\x08\\x88\\x16q;O#\\xca\\x08\\x81Q\\xe2[\\xdc\\xbd\\x13\\xbf\\xf9\\xfb\\xab$\\xach\\xa9%:r\\xfev^\\xd8\\xea\\xc5\\x02^q\\x00q;\\xf6\\x99\\x02\\xb3\\x91\\xc7\\xa0L\\xc4\\xac\\\\p\\xcc\\xbd\\x9f\\x0cy\\xaep\\xae\\xbc\\x93\\xfcH\\t\\x9d\\xc6\\x11\\x02m\\xc4\\x8er\\xfb-\\xdec\\xca\\xfe\\\\)7\\x8c\\xe7\\xfdx.\\xbf\\xbf2\\xb6\\x9d)\\xe0\\x91\\xc7\\xc0DD.\\x17\\xda|t\\x8b\\xdf\\xff\\xfde\\x13\\x96\\xd7\\x83c\\xb1\\xbb\\xdc\\x08\\x81\\x1e\\xf1Fr;-\\xdeZ\\xfa\\xee\\x15\\xe2\\xea\\xba\\xda\\xf2^[-\\xa1s\\xa6\\xc0\\x02\\xe41\\xb0\\x8a\\xe3\\x97\\x8fqq\\x02\\xf1\\xfb\\xcb\\xc6\\x95\\xf7~\\xaf\\x03\\xc9\\x88\\xa9t\\x97\\x1b!\\xd0&\\xb9\\x7f\\xe27\\x93\\x1b\\xd5\\xa8X\\xb7j\\x0f?\\xad\\x89Z\\xc5\\xf7\\x93\\xc6\\xce\\x14\\x98\\x84<\\x06\\x15\\xe2(\\xe6#\\x9dx\\xbf*\\xf2>\\x8a\\xb5\\x9e\\x02Jw\\xb9\\x11\\x02\\xb5\\x8c;\\xa7\\xf6j\\xaf\\xda\\x90\\xb9\\xc2\\xaeS\\xef\\xf7\\xfa_\\xa2V\\xae\\x98.n\\xa4\\xad\\x1d`6\\xf2\\x98\\x1b\\x85\\x11\\xaa66\\xc5\\xe5]k\"\\xe4\\xc5\\x1a\"\\xa0o3WQ\\xbc\\x1f\\x0e\\xa0m\\x84@\\xc8\\xb2a\\xdcN\\x8b7\\x9bN4\\xabT\\xff\\xbbg\\xe5\\x18|\\x8f\\xce\\xef\\xf5\\xbf\\xfc\\xfbq\\xad\\x87\\xf8(\\xd7\\x8ec/\\t\\xbc\\x8e<\\xe6\\x05\\xa7\\x07\\x05\\xcb\\xf8\\x93!\\xf8\\xf7W\\x87\\xb0Y\\xd1\\xa0\\xf2\\x91\\x17\\x0f\\tH\\xb2l\\x95\\xa9\\xa789\\x80\\xb8\\xc7\\xaaq\\xda\\xf7\\xbf(9u\\xa6@?\\xf2\\x18\\xb4p\\xa1\\xad\\x18\\xdd\\xe2\\xb8Y\\x1b\\x10}\\x0b\\xb5\\xb5\\xbc\\xbf\\x03\\x94\\x15\\xed\\xa1\\x1c\\xd7\\xb2\\xdc\\xe2\\xc97\\x8b,-\\xbb2\\xa2\\x98W\\xec\\xd1\\x17\\xb0t\\xa1\\xebo\\x01X\\x8c<\\x06\\xed\\x8a1.\\x19\\x91\\x1f\\xae\\xba\\xa5\\x05\\xd1H\\xf8RT\\x17%\\x9d\\xb8\\xfd\\xbf\\xedi\\xa3\\xc2\\xcd\\xc4\\xdep\\xfb\\'~\\'\\xdeT\\x16q;\\xbf\\xbf\\xfe\\xe3\\xcf\\xbe\\xec\\xdb\\x99\\xb9.\\xec-\\xe7Z\\x00vF\\x1es\\x9d0T\\xf5\\xc7)\\xd7\\x82\\xdeH1\\x80v\\x8eAT\\x8f\\xbbK\\xb6o\\x0c\\xeb\\xb8J|\\x8b\\xc7\\xef\\xfc\\xfe\\x1a\\xca\\xf5\":\\x12\\x8a{8.\\xf0\\xbc\\x93ky\\xd2\\\\\\x80\\xf5\\xc8c0\\x80\\x1e\\x13\\xffF\\xe9?~\\xaf\\xff\\xe3y\\xc7U\\xaf\\x8a\\xaa\\xa2)Q7\\xee(\\xd9\\xfe\\x9f\\x01eB<.$6\\x83\\xdb0\\xf1;\\xbf\\xbf\\xea\\xe5\\x9a\\xfa\\xb3\\x05K\\x9b\\xd0\\xd8o\\xb2\\x9db\\xe3\\xde\\xdfQ\\xfc\\xf1{\\xfd\\x97\\xa5_Q\\x05x\\x05y\\xcc\\x0b\\xc2\\xc3\\xff\\x99@\\xd0\\x16\\xf5\\xc2w\\xaa\\xee\\t\\xd1\\x94\\xa8\\x9b\\\\\\xd5d\\xfb\\x9fY\\x7f\\xf4\\x88\\xb7\\x93\\xbe\\xc1\\xaa$\\x1b\\xf7~o\\x8d\\xe6G\\xab\\xb4\\xff\\x14\\xf0\\xfc\\x9b\\xa1\\x9e\\xf9\\x02\\x8b\\x91\\xc7\\xbc\\xe0\\xab1\\xa2\\x7f^\\xae\\x05{#\\xb9\\x10\\xec\\xd9\\xa3\\xb3\\xd2\\x08n 6\\x80\\xdb$\\xf1;\\xbf\\xbf\\xea\\xc5\\xbbK\\xd9oqG\\xc6\\xaek{q\\x9f\\xea\\x05~\\x7f\\x01\\'`\\xbf\\xbe#\\x0c\"+\\xa3\\x86\\x08^\\x93\\xbaVBdR<\\x8c\\xb6\\x16\\xe2Z\\xb9\\t&\\xdb_\\xf9 \\xb0\\x89\\xf8D\\xc4\\xef\\xfc\\xfe\\xaag\\xdf\\xc6\\xc9\\r\\xacwmo\\xbcJ\\xd5|\\xc31\\xf4,\\x14\\xd0\\x83\\xdfc\\xee5/\\xee\\xb8\\x96\\x17\\x075\\x17O\\x9d\\xb8\\xd30\\xce\\x86\\x92\\xc3\\xcb\\x15\\xc6\\'\\xfd\\xdd22o\\x88\\xdf\\xf9\\xfd5\\x8d\\xeb\\xc2\\xf7\\xb2\\xbe\\xeb\\x90\\x1f\\x86\\xf3{\\r\\x9c\\x83]\\xfb\\x8e0f\\xad\\x8c\\x1d\\xaf\\xf4+\\x02t\\x8e\\x18Or\\xa8\\xc6\\xa6\\x04e\\xa6q\\x83+\\x1f\\x07\\xde\\x92|\\xee\\xe2\\xcd\\xce\\x9d\\xa0\\xef\\xd5\\xb8\\xf1\\xda\\xde\\xf5\\xf6\\xbdxR\\xc2\\xc09v6\\x054c\\xe7\\xbd\\xa36f\\x8d\\xf2n\\xdc)F\\xdepH\\xb9%*6\\x92\\xa4L6\\xd9\\xe0\\xfa\\xc5\\xc12\\xf1\\x13w\\x8f;\\xb7\\xdf\\x1a\\xe8[4\\xd9rC\\xefz/ECvx8\\x86!\\r\\x02\\r\\xd8y\\xaf\\x19\\x187\\xedv\\x88;\\xc5\\xf8\\xfb\\x0c,7\\xdab\\x0b9\\xb9)\\xe7\\x1a|k\\x890O\\xfc\\xac\\xddS\\x16o\\xf6<w}s&[n\\xe8]\\xefE1vK\\x87\\xc3\\x18\\xdb2`\\xc7\\x7f?\\x06\\xab\\xb9x\\xa7\\x87<\\x17\\x1c\\xeda\\xba*z\\xe6Z\\xce\\r\\xc9>\\x0c\\x1c!~\\xa0\\xee\\xb9\\x8b7\\x93;\\xc1H\\xd90\\x7f\\xb7Xy\\x8fYzo\\xdb\\x96\\xb9\\x01\\x00\\xa7#\\x8fy\\x8d\\x88)m\\xb1\\xe9\\\\\\xc5\\xa8*\\x16$\\xb7>\\xee\\xfdbSB\\xae\\xa9d#\\xaep\\xae<\\xce\\x12?G\\xf7\\xc4\\xc5\\x9bU\\x1bIP\\xf6I\\xae\\xd9\\x86\\xde\\xf7\\xd9\\x8d\\xfb\\x8c\\x04\\x97k?\\xb4\\x18\"\\x8c\\x05=1\\xd4hqw\\x16U\\xd1\\xf0\\x19\\xb32\\x91\\xb6\\x06C\\xc9\\x166Y.\\xb4\\x11\\xcf\\xd4?\\xcd\\xe4\\x9bmr\\xbbNi\\xb3\\xb6\\xf7\\\\\\x179\\xae\\xc1\\xb0J\\xcf\\xec\\x92\\xa66\\x0e\\xd8\\xf1{\\xccFj\\xe3\\xd47TE@\\xcb\\x12\\xb9\\x06\\xedm&\\x1bL\\xb6p\\xe7\\xd3\\xf9\\x06\\xf1\\xec\\xfc\\xc3M\\xbe\\xd9&\\xde\\x1b\\x7fw\\xd0\\x1f\\xbf\\xd7\\x11{\\xef\\xae\\xa4\\xf7{m\\xe0\\xbb\\xae\\xaa\\x02\\x9c\\xab\\xfd\\xe8b\\x940\\xdc(\\xe1l\\x88\\x95}U\\xe9\\x8c\\xb9\\xca\\\\\\xec-\\xc7\\x8d\\xc4u\\xb7Z4X\\x88\\x87\\xe8\\x9f`\\xf2\\xcd6\\xc9\\rVl\\xb08\\x80d\\xb3I\\xc9\\xbe\\x06N0iv\\xfb\\x80\\x1d\\x9b\\xef}+#B\\xd8\\xd7n\\xa1\\xc7\\x1e\\xb8\\x93\\x8a\\xd31\\xb6/\\xda\\xc9\\xd5\"p\\x1f!y\\xb8\\x92o6\\x8bw\\x88\\xde\\xa0^>\\xb7\\xdfrr}\\x8d\\x9dc,l\\x7fx\\xe3@\\x15\\xf6\\xdf\\x16f\\x07\\x9d\\xc7\\xe6\\xd1\\xa76\\x88\\x0b\\x96\\x19Y\\xba\\x10\\xed(U\\x88\\xe0;K\\x1e\\xab\\xe4\\x9b\\xcd\\xe2\\xbd\\xa14\\x98\\xdcH\\xae\\xbc\\xb2\\xc1\\x8a\\x92\\xdd\\x8d\\x9dcR\\xd8\\xc5\\x8c\\xf6\\x01;\\xfe\\xfb1\\xd8H2 \\xda\\xa3\\xa4\\xe5>p\\xady\\xbf\\xd7)\\xae\\x1d\\xcf\\xbfT\\xca?e\\xb0\\x1b\\xf1h\\xfc\\x13\\x1c\\xfb\\xbc\\xe2\\xd6r\\xfb\\xc4\\xc9u\\xdd3\\xa4dw\\xc9\\x89\\x8f5v\\x19\\x81N\\xe3\\xb78\\xda,\\x88>N\\xd8\\xcb\\xa4.\\xfa\\x15\\xa3\\xa4\\x1b\\xb9^\\xa6jj\\x96\\xa0\\xec\\x1bTJn\\xbb\\x98w\\x12O*\\xf7\\xf8\\x9a\\x9fZr\\'\\xe4Z\\xb3l0#\\xd7E\\xd8Z\\xdccr\\xe2\\xc3\\xe9c\\x00\\x16c\\x0bndA\\x0c:(\\x00\\x89\\xd5\\x10\\xfc\\xe0-e\\x8c\\xf4\\xa6\\x1e\\xc5~7_\\xd5KX\\x9ef\\xdb\\x93\\xca\\xb5\\x9ck\\xcd\\xb8\\xaf,\\\\\\x17\\xa25\\xd1\\xa9\\xfe\\xe9@aG\\xf3z\\x01\\x8c\\xf8w%\\x9c!\\x19\\xb2\\xf5\\x18\\xea\\xca\\x84\\x01Wg\\x0c\\xc7O\\x9b\\xb9\\xf2\\xf6\\x1e1\\x89\\xe5\\x114\\xdc\\xbe\\x7f\\x9f|\\xba\\xe5\\xfe\\xcdP\\x1cO\\\\@\\xbc#\\xfaj\\x98\\xa0\\x91}R\\xc0\\x1a\\xb3\\xf6:\\xda\\xcc\\x0eFa\\xfb\\xf3\"\\xdd(\\xf1j\\xe4\\xd6\\xa7\\x18[\\x8d\\x93-\\xb6c\\xb4\\xff\\xda~\\xd5\\xa8\\x9d (\\xcd&\\x1b\\xb4o$W\\xdd8fQ,\\xecW\\xf9h\\xb8\\xb0\\xaf\\xa9\\x1d\\x01F\\xec\\xc2\\xedL\\rI\\xc7\\xc5\\xa0x5\\xc4;\\xce3\\x91\\xf8#\\xc18\\xe5b;\\x16G,\\xef\\xf7\\xe8\\xcf\\xae\\xe1\\xa1\\xd46h\\xdf<\\xbe\\xae\\xbd\\xfd\\xb0d\\xee}\\xa7a\\x8eUr\\xc3\\x00\\xde\\xc2.\\xdc\\xd1\\xbc\\xc0t\\\\\\x0c\\x12K\\xe1\\xb8a\\'\\xdf\\xf4\\x7f\\xc4\\x1f\\xc5,\\x13\\xb7\\xb4cq\\xc4\"\\x7f\\x86\\xf2\\xd4\\xda\\x1e\\x84\\xbe\\rD\\x9b\\xb5{\\xafX^)\\xfc|\\x94{\\x7f\\x9e\\xb0\\xc7\\x05\\xdd\\x01E\\xec\\xc2\\x1d\\xcd\\x8bM\\'\\xc6 \\xb1\\x1a\\n?#c\\xf9\\xe2\\xf4\\xed\\xfd\\x16\\x11\\xee\\x17\\xc8=\\xaf\\xe6\\xc5\\xd77\\x80h\\xb6\\xb8[\\xc2\\xf2\\x96\\xad\\xa5\\xb4\\xff|$\\xdai\\x9ei\\x95\\xe4H\\x80\\x17\\xb1\\x0b75)B\\x1d\\x1a\\x83\\xc4j(\\xfc\\xa4j\\xcb\\xe7\\xd8\\xdb\\xb1 \\xe8\\xcf\\x93|R=\\x0b\\xae?\\xfa\\xb0e{I\\xc7\\xb8\\xa3\\xe2\\x91\\x87\\x15\\xfd\\xa7\\xa2\\xa9\\x9e\\xc9V\\x89G\\x02\\xbc\\x8b]\\xb8\\xaf\\x19q\\xea\\xdc\\x18$VC\\xe1\\xe6e/\\xec)KQ\\xdb\\x94\\x05\\xd1\\x7f\\xac\\xe43j^\\xe4\\xe2\\x13\\x0f[V\\n\\xc7\\x030\\xee%\\xbd\\xa2\\xffT4\\xd5<\\xd9\\x06\\xf1`\\x80w\\xb1\\x0b\\xf7\\x15G\\xbd\\xfe\\xa8qz\\x0c\\x8a\\xd7\\xc4\\xc8M\\xb6XW_\\x90\\xe6\\xae\\x15\\\\\\x03\\xfd\\xc6\\x1e\\x13\\xfb&QJ\\xc6\\x03\\xb0o\\x9e\\xe4\\xe0\\xc3\\xea\\xae\\x80h\\xadg\\xbe\\r\\xc4`~\\x7f\\x01\\xefa\\x17nmx\\xc0\\xfaF\\x0c\\x12\\xcbb\\xe4\\xe7[\\xac\\xab,Km\\xbf\\xfd=B\\x17\\xafm\\xf3bZ\\x1en\\xf1\\x81&{O\\x96w%\\xc5\\xfb\\xb9\\x91\\xeb\\x03k\\x9eo\\xb3p<\\xeb{\\x07b\\xec\\xc2\\xdd\\x19\\x83\\x9d\\xd1\\x97b\\x90\\x1e\\xdfcb\\xbe\\xc5\\xea\\xc9\\xf5\\xa9\\xed\\xb4\\n\\xb7B\\x95\\xe4\\xb3hXC\\xe33u-\\xeb%\\xed\\x1b,n*7\\xec\\xaa\\x1e\\xd7\\x08\\x87\\xf4\\xca\\x00\\x00\\x81]x\\x00c\\xc8\\xb3\\xf8^\\x0c\\xd2\\x03\\xbd\\x10O\\xb9X\\xbd\\xa1J?\\xae\\x07]\\xee\\x11\\xd4\\xae\\xdb\\xc0G\\xe9\\xbb\\xb6l\\xa7\\xb8Ln\\xd8zkom\\x92pTo\\x8d\\x01\\x08\\xb1\\x0b\\x0f`\\x0f|E\\x9f\\x8cAz\\xb8\\x17\\x92\\xb3.\\xb6`\\xac\\xe5\\x8bU\\x8d\\xc7\\xe23Oj\\x88\\xdc\\xf2\\xd6\\xae\\x92\\xd2N\\xed\\x134VI\\x16\\xcb\\r[o\\xb0v\\xb2\\x03\\x85\\x03{q\\x18\\xc0\\x83]x\\x06\\x11\\xd4\\x9a\\xc3\\xc7Wc\\x90\\x1e\\xf4c\\xc9\\xb9[\\x1a\\x11\\x15\\x93U|\\x99\\xda!\\xd9}\\xe9\\xc1\\xd5\\xca\\xadj\\xed\\x9a\\x8czp\\xae\\x8a\\xa5|\\xae\\xe5\\xdc\\xb0\\xf56k\\';V8\\xb6wG\\x02x\\xec\\xc2c\\xd8\\x83\\xa0\\xe2\\xdb1(\\x19\\xfd\\xdd4s\\xb7Br\\x05r\\x85Ca\\xc5\\\\\\xa7\\xbf\\xbf\\xfe\\xc3\\xd2l\\x9b\\xef=\\xc7\\x9c\\xaa\\xe7\\x98\\xa3?/\\xfbcrU\\xf4\\xc2bTq\\xe1\\xe4\\xb0\\x8b\\x03\\xa8\\x9a\\xecp\\xe1\\xf0\\xde\\x1d\\t\\xf0`#\\x9e\\xc4\\x18\\n\\x157\\x84\\xa1\\xe2M \\xb4]\\'\\xdeS7Y>\\xb7\\xc2\\xb5#\\xac\\xf5\\xc9\\'\\x9b[4\\xfbd\\x8b\\xcfh\\xc8sI\\x8e\\'n\\xd9X,\\xb4\\xc3c\\rG\\xb8\\xc3x\\x00\\x87\\x8dx\\x18c@\\xcc\\xb9$\\x0c\\xe9\\xf7AN\\xc3\\xd5\\xf2pu\\x95\\x92\\xb9\\xa5n\\x1bg\\x9b\\xa3\\x1fwn\\xa1\\x8c\\x93\\xb2T\\xef\\x7f\\x16\\xc6\\xa7\\xdc\\xb0\\x19\\xf6yv\\xe1 \\xf7\\x19\\x15.\\xc7F<O2\\xde\\x19c\\xcaUaH\\xb9\\x18\\x8a\\xc4\\xe2\\xf44%$\\x97}`\\xfbF\\x07=\\xfd\\xdc\\xe2X\\xa6\\xa0,lX\\xbds\\xfds#\\x89\\x9bmx\\xfa[=\\xa9p\\xa8[\\r\\x0c7c#\\x1e)\\x19\\xf8,a\\xe5\\xb60\\xa4\\xdf\\x10v~\\xad\\xc6\\xb6\\x964\\xaa\\x8b*;\\xef\\x84\\xdc\\x82\\x14\\xc7\\xac\\xac\\xa4\\xa8\\xdb\\xb3\\xe6U\\x8f2YX\\xef}\\xb7G\\x13\\x8ev\\xb7\\xb1\\xe1Zl\\xc4\\x83\\x19\\x03e\\xe8\\xce0\\xa4_\\x15U\\xdc\\xa2\\riM_\\xfc\\x9e.:G\\xb8\\xdb\\xaeH\\xce\\xa5y\\xf5\\xe2\\x8a\\xcdkU;\\x86dy\\xbd\\xf7\\xcd\\x9f\\xc5n\\xc3\\xc3\\xb5\\xd8\\x88gK\\xc6A%\\xbe\\x84\\xe5o\\x0bC\\xfa\\x9d\\xb1\\x9e}\\xfd\\x9bG\\x1evQ\\xdb\\xc8\\x0e\\xdb\\xa3j{\\xeb\\x13L\\xd6\\x9a\\xb1&\\xc617\\x8c\\xf6u\\xe1\\x98\\xf7\\x1c!\\xee\\xc4^<\\x9e1nzD\"\\xfd\\xfex\\x91\\xe5q\\x0c\\x19\\xbc\\xeb\\xa8\\xb6\\x9dW\\xb6\\x8a}c\\xeb\\xd3i\\xa8\\x12\\xaa\\x9a\\xbbq\\xcc\\r\\x03\\xdeA8\\xecm\\x07\\x89\\x0b\\xb1\\x17?\\xa2!\\x80\\xde\\x1c\\x89\\xf4\\x8b\\xe4\\xe1\\x97\\xc8Xx8\\xfd\\x01\\r\\x19\\x95\\xeb\\xa2\\xb6\\x9d5\\xdb&9*\\xd1uq\\xe4\\xc9\\xa1V\\xcd\\xd7>Y\\xcb\\x80\\x9d\\xb61\\xef@\\x8c|\\xdbq\\xe2B\\xec\\xc5\\xef\\xb0D\\xd2\\xb0\\x0c\\x91\\xc8\\xa9\\xbaW\\x8a\\x85_\\xe1G\\xd89\\xb6!\\x8dx\\xfd\\xfb*9\\x8c\\xa7Y\\xcb \\x93c\\xa8\\x9a]\\xd5,\\xf4\\x01?\\x8a\\x03\\xe8_\\xbay\\xc2\\xc1\\xef<N\\\\\\x88\\xed\\xf85\\xb9X\\xe9C\\x0f\\xc1(I\\xbf`\\x1a.\\xa4W\\xb8q\\x0e\\x19X\\xbcUF\\xc9m\\xb9Q}\\x8dj?\\xd7NR\\xb2q\\xd1\\x82e\\x00U\\x9d.&\\xc6\\xbf\\xf3Pq!\\xb6\\xe3\\x07\\xd9\\xa36\\xf1(T\\\\\\xb7x\\xb9\\xecK\\xbd\\xde3\\xda\\x9d\\x079Dn\\x1b7L\\xbc\\xeaD$\\xdb\\x17-4l\\xaa\\r\\x85\\xb38b\\xc0\\xb8\\n;\\xf2\\x9b\\x8c\\x11\\x9c\\x90\\x94\\xd4|\\xf7\\x18\\x97\\x1d[i;\\x05\\xc9g\\x1d6e\\xd9\\x0cG\\x1c@1\\x11\\x82\\x06v\\xc3\\x8e\\xfc\\xb2\\xe6\\xfb\\x18\\x0eI\\xc9\\xe7\\xd5\\xee\\x7feK\\x88\\xa6\\xbet\\xf4\\xc2\\xb9\\x101\\xb0!6\\xe5\\x15\\xec\\xf1\\x17\\x02\\xd9\\x0c\\x8a\\xc2Cd\\xd90\\x87&1\\x0e\\xe1\\x02\\x1bbS\\xde%\\x19d\\x89MEd3\\xc8!\\x89\\x01\\xde\\xc5\\xbe\\xbcN.\\xd4\\x12\\xa4\\x8a\\xc8f\\x10\\xfap\\x06\\xe3\\x91\\xc7\\xe0\\x08\\xec\\xcb\\x1b\\x15c.\\x01\\xcb\\xa29\\xad\\xc9-/y\\xd2\\xfe\\xe2gg|j$1\\xc0$l\\xcdK\\xd9\\xafL\\xe2W\\xd1\\xf0\\x84\\xe6\\xa1\\xb7\\xec\\xaaWu\\xdd\\xf3(\\x9b\\xe7(\\x84c\\x10m6\\x0c\\xaf\\xb8>\\xfe\\x8f\\xfe\\x8er\\x8c\\xcb2\\xb0\\xc75\\xe6\\xad\\x180\\x1c\\xbb\\xf3^\\xc6\\x10\\x1c\"\\x9cY4,l?\\xf7h\\x16\\xdf\\xa9c\\xa7i\\x19U\\xdb\\x04E\\xad\\xc5\\xd3\\x1f\\xd5\\xddJ\\x93V\\x0c\\x98\\x84\\rz\\xb5\\xe6\\xab\\x88\\xd0f\\xd4\\xbc\\xc2\\xb3\\x85Op\\xb7A6\\x8f-\\xde\\x96\\x93\\xaed\\xe3\\xa8\\x8e;&\\xf1\\xbc\\x8e\\x9b\\x02.\\xc4\\x1e\\xbd]\\xe7\\x1dF\\x98k\\xd0\\xb9\\xe6\\x88\\xe5\\xf6a\\xb8\\xd4C\\xf6\\xaa\\xfd\\xd9\\x91\\xc4\\x00k\\xb0M\\xf1CB\\xb3\\x18\\xd9\\xccb\\x9d[\\xf4\\xc3\\x19\\x8cC\\x12\\x83s\\xb1S\\xf1_\\xa3nV\"\\xe02$CF\\xcd{\\xb2v\\x85\\x8f\\xdb\\xfc\\xc9\\tr\\x84q\\x106+\\xfeQ\\x8c\\xda.\\xc0UEv\\x02\\xe2\\x02\\xca\\x13I\\xae\\x7f\\xae\\xfc\\xa4\\x87U\\xb5afh\\x9bW\\xed\\xb0O\\xdc\\xea\\xc99rfq\\x16\\xf6+\\xa4b\\xf8\\x0e\\xc3\\xdc\\r\\xb1\\xfe\\x14\\xa3\\xd2\\x85I\\xcf(\\x1e^[G\\x0b\\xb6\\xdc\\xe7wun\\x82\\x1cO\\x9c\\x88]\\x0b\\x8d\\x12\\xd0E\\xc8\\xab\\r\\xfd\\x1eqs\\xb8\\xb6\\x07\\x913\\xea\\x01\\xc5\\xa3\\xda\\xf6\\xd1\\xeb{\\xfe\\xa0\\x89$\\xe9\\xb3\\xfb\\xfd\\x05\\x1c\\x85\\x8d\\x0b\\x93d\\xf8K\\x06>%P\\x16\\x11IG\\xe9y\\nI=\\x8f\\xe6\\xa0\\xbb_\\xdf\\xe7\\x07M$\\xa6o\\t\\x8e\\x1e\\xce\\xc5\\xde\\x85U[\\x1c\\xd4k\\xe9\\x88\\xad\\x9dz\\x16_Q\\xf5\\\\\\xc4\\x18\\xb6}\\xa6\\xc9\\xb5zF\\x1b\\x7fz\\xca\\xe6,\\xee\\x01N\\x19N\\xc7\\x0eF\\x1d\\xcb\\xd5\\x98\\x8b\\x8c\\x96\\xba\\n\\x02\\xee\\x02\\xcd\\xcf\\xc8\\xf8\\xd0\\xf7|\\x88\\xc9Y\\xfb\\xa1*\\x1f\\xed\\xac\\xf8\\x1c9M\\xf8\\x0c\\xb62\\xaa\\x19\\xaf\\xbab\\xa04\\xb6S\\x85\\xe8<P\\xf3\\x03z\\x9e\\x82ha\\xb7\\xa7\\x93\\x9b`n\\xfc\\xde>\\xb3h{@\\x9c\\x11|\\x0c\\x1b\\x1a\\x8d,1\\xb4*b\\xb6\\x05\\xe5fDs\\xa3Q\\xcf\\xe5\\x94\\xeb\\xff\\x19g\\xb2\\xd8\\xeb\\xb3\\xe8y\\x1c\\xecy|\\x12\\xdb\\x1a\\x03\\x18/\\x86*\\xa3\\xaeO;\\xa2\\xbcn\\xc1\\x13Y\\xf0\\x08,{5Y\\xe6\\xf5\\xb15cc\\xe3\\xdb\\xd8\\xdf\\x18,\\x17\\x8b;\\x83\\xe9\\x82K\\xb4\\xc1\\xe57\\xc4+\\x0fE_\\xf3\\x19C\\x9a\\xfd\\x94I_\\x80\\x1eltL1)\\x9b)\\xda$\\xdd\\xb9\\xf6\\n\\xd9d\\xfd\\xefA\\xb2\\x02p\\x060\\x8b~\\xa5\\xbd\\x1e\\x7f\\xd7\\xdf\\xb8\\x9f\\xbfrHb\\xd6 w\\x01B\\x9c\\x07\\xcc\\xb5y6\\x13z\\xe5\\x1a\\xfe\\xcc\\x9d\\x14\\xaf\\x9e\\x98\\x1aY\\x8e\\x059\\nP\\x8b3\\x83\\x15\\x8aw\\xd8\\xa1\\xe1\\x9b\\xbb9\\xc7\\xf8@Y@\\x87\\xdc\\x05\\xe8\\xc1\\xf9\\xc1R\\xf6{\\xeb\\xe8\\xe0~\\xf9\\xf5\\xbc\\xc3\\xb3K>\\x022\\x06\\xe0{8\\xd5xA\\xf35Or\\xb3?\\x92\\x18\\x00+q\\xb0\\xf1\\xa6\\x9e\\xab\\xfd\\x1b\\xd7\\xd2\\xc7\\x92\\x9b\\xd7\\x1f\\n\\x19\\x0cp\\x1b\\x8e7\\xde\\xd7y\\x97sK\\xc1\\xc9\\xed\"\\xb6\\x07\\xf0m\\x9cpl\\xaa!\\xb9\\xe1\\xc6\\xba\\x16?\\xc3\\x00\\xd7\\xe2\\x9c\\xe3$\\xc6\\xe4\\x86\\x0b\\xec\\x1e\\xfc\\x0c\\x03\\\\\\x8e\\xa3\\x8e#\\x91\\xd0\\x80\\x0c\\x06\\x80\\xc3\\x81\\xc7\\xd9Hh\\xee\\x94|\\xee<e\\xe0B\\x1c{|\\x841\\xa1q\\xb8\\xed\\x8e\\xc6\\xcf0\\x00B\\x9c||\\x8d=\\xa1q\\xb8\\xfc\\x0eB\\x06\\x03 \\xc6\\xf9\\xc7gU%4\\x0e\\xd7\\xe1\\xb6\\xc8`\\x00\\xe4\\x10\\x05p\\x85\\xda\\x9c\\xc6\\xe1\\x8e\\xdc\\x04I\\x0c\\x00\\x05\\x81\\x00\\xd7i\\xc8i<.\\xce\\xc5\\xc8`\\x00\\x14\\x11\\x0ep\\xaf\\xe6\\x84\\xe6\\xc1\\x85:\\t\\x19\\x0c\\x00#\\x82\\x02\\xf0G\\x7fN\\x13\\xe2\\xbam\\xa3?\\x05V\\x15@\\x8c\\xb8\\x00\\xa4\\x8d\\xcdl<n\\xe2\\x1c2\\x18\\x00m\\x88\\x0e\\x80\\xd5\\x8c\\xcc\\xc6\\xbb\\xf9\\x9e&\\x83\\x01\\xd0\\x83\\x18\\x014\\x9a\\x97\\xd6x\\x9f\\xbf\\xc2\\xc9`\\x00\\xf4#R\\x00\\xe3\\xcdNqb\\xfa\\xad\\xdf0\\x9eyi\\x04\\xe9\\x0b\\x80\\x81\\x08\\x19\\xc0:\\xeb\\xf3\\x9b\\x83\\x90\\xc1\\x00h@\\xe0\\x00\\xdewy~C\\x06\\x03\\xa0\\x19\\xe1\\x03\\xd8\\xd4\\r\\xc9\\r\\x19\\x0c\\x80N\\x04\\x11\\x00\\tS\\xb3(\\xd2\\x17\\x00\\x00\\x00\\x00\\x00\\x00\\x00\\x00\\x00\\x00\\x00\\x00\\x00\\x00\\x00\\x00\\x00\\x00\\x00\\x00\\x00\\x00\\x00\\x00\\x00\\x00\\x00\\x00\\x00\\x00\\x00\\x00\\x00\\x00\\x00\\x00\\x00\\x00\\x00\\x00\\x00\\x00\\x00\\x00\\x00\\x00\\x00\\x00\\x00\\x00\\x00\\x00\\x00\\x00\\x00\\x00\\x00\\x00\\x00\\x00\\x00\\x00\\x00\\x00\\x00\\x00\\x00\\x00\\x00\\x00\\x00\\x00\\x00\\x00\\x00\\x00\\x00\\x00\\x00\\x00\\x00\\x00\\x00\\x00\\x00\\x00\\x00\\x00\\x00\\x00\\x00\\x00\\x00\\x00\\x00\\x00\\x00\\x00\\x00\\x00\\x00\\x00\\x00\\x00\\x00\\x00\\x00\\x00\\x00\\x00\\x00\\x00\\x00\\x00\\x00\\x00\\x00\\x00\\x00\\x00\\x00\\x00\\x00\\x00\\x00\\x00\\x00\\x00\\x00\\x00\\x00\\x00\\x00\\x00\\x00\\x00\\x00\\x00\\x00\\x00\\x00\\x00\\x00\\x00\\x00\\x00\\x00\\x00\\x00\\x00\\x00\\x00\\x00\\x00\\x00\\x00\\x00\\x00\\x00\\x00\\x00\\x00\\x00\\x00\\x00\\x00\\x00\\x00\\x00\\x00\\x00\\x00\\x00\\x00\\x00\\x00\\x00\\x00\\x00\\x00\\x00\\x00\\x00\\x00\\x00\\x00\\x00\\x00\\x00\\x00\\x00\\x00\\x00\\x00\\x00\\x00\\x00\\x00\\x00\\x00\\x00\\x00\\x00\\x00\\x00\\x00\\x00\\x00\\x00\\x00\\x00\\x00\\x00\\x00\\x00\\x00\\x00\\x00\\x00\\x00\\x00\\x00\\x00\\x00\\x00\\x00\\x00\\x00\\x00\\x00\\x00\\x00\\x00\\x00\\x00\\x00\\x00\\x00\\x00\\x00\\x00\\x00\\x00\\x00\\x00\\x00\\x00\\x00\\x00\\x00\\x00\\x00\\x00\\x00\\x00\\x00\\x00\\x00\\x00\\x00\\x00\\x00\\x00\\x00\\x00\\x00\\x00\\x00\\x00\\x00\\x00\\x00\\x00\\x00\\x00\\x00\\x00\\x00\\x00\\x00\\x00\\x00\\x00\\x00\\x00\\x00\\x00\\x00\\x00\\x00\\x00\\x00\\x00\\x00\\x00\\x00\\x00\\x00\\x00\\x00\\x00\\x00\\x00\\x00\\x00\\x00\\x00\\x00\\x00\\x00\\x00\\x00\\x00\\x00\\x00\\x00\\x00\\x00\\x00\\x00\\x00\\x00\\x00\\x00|\\xdf\\xff\\xfc\\xcf\\xff\\x07*q\\x1b\\xff\\xb1\\xd0\\xe1\\x1c\\x00\\x00\\x00\\x00IEND\\xaeB`\\x82'}"
            ]
          },
          "metadata": {
            "tags": []
          },
          "execution_count": 82
        }
      ]
    },
    {
      "cell_type": "code",
      "metadata": {
        "id": "_ZtgUv3riO7l",
        "colab_type": "code",
        "colab": {
          "base_uri": "https://localhost:8080/",
          "height": 33
        },
        "outputId": "51754768-357b-4c44-d5fe-8ff12222dd86"
      },
      "source": [
        "!ls"
      ],
      "execution_count": null,
      "outputs": [
        {
          "output_type": "stream",
          "text": [
            "1.png  5.png  6.png  MNIST_Sequential_dense.h5\tsample_data\n"
          ],
          "name": "stdout"
        }
      ]
    },
    {
      "cell_type": "code",
      "metadata": {
        "id": "tnUaLZcCiR0C",
        "colab_type": "code",
        "colab": {
          "base_uri": "https://localhost:8080/",
          "height": 265
        },
        "outputId": "d6e31fd0-947a-46f8-8783-6bb1d2cc4fe6"
      },
      "source": [
        "img_path = '6.png' # подключаем рисунок, и конвертируем в расрешение 28x28 и отображаем результат\n",
        "img = image.load_img(img_path, target_size=(28, 28), color_mode='grayscale')\n",
        "plt.imshow(img.convert('P'))\n",
        "plt.show()"
      ],
      "execution_count": null,
      "outputs": [
        {
          "output_type": "display_data",
          "data": {
            "image/png": "[encoded data removed]",
            "text/plain": [
              "<Figure size 432x288 with 1 Axes>"
            ]
          },
          "metadata": {
            "tags": [],
            "needs_background": "light"
          }
        }
      ]
    },
    {
      "cell_type": "code",
      "metadata": {
        "id": "hYAwnCewiyo3",
        "colab_type": "code",
        "colab": {}
      },
      "source": [
        "x = image.img_to_array(img) # переводим картинку в численный массив\n",
        "x = x.reshape(1, 784)\n",
        "x /= 255"
      ],
      "execution_count": null,
      "outputs": []
    },
    {
      "cell_type": "code",
      "metadata": {
        "id": "GLcACvIKjGZc",
        "colab_type": "code",
        "colab": {
          "base_uri": "https://localhost:8080/",
          "height": 67
        },
        "outputId": "152716ff-5860-4c9d-83cf-666a0bc68727"
      },
      "source": [
        "prediction = model.predict(x) #предсказываем наше изображение (смотрите на самое больше значение из списка)\n",
        "prediction"
      ],
      "execution_count": null,
      "outputs": [
        {
          "output_type": "execute_result",
          "data": {
            "text/plain": [
              "array([[8.05156120e-08, 3.03037452e-18, 1.02839515e-07, 4.54903643e-10,\n",
              "        3.89640220e-04, 6.49916590e-13, 9.99610245e-01, 3.26032062e-14,\n",
              "        2.63362958e-17, 7.55215965e-17]], dtype=float32)"
            ]
          },
          "metadata": {
            "tags": []
          },
          "execution_count": 117
        }
      ]
    },
    {
      "cell_type": "code",
      "metadata": {
        "id": "W3JcNgF9k8ko",
        "colab_type": "code",
        "colab": {}
      },
      "source": [
        "x_test = x_test.astype('float32') #нормируем тестовый набор данных по тому же принципу что и тренировочный\n",
        "x_test = x_test / 255\n",
        "y_test = utils.to_categorical(y_test_org, 10)"
      ],
      "execution_count": null,
      "outputs": []
    },
    {
      "cell_type": "code",
      "metadata": {
        "id": "gxZ1QGVdlFbJ",
        "colab_type": "code",
        "colab": {
          "base_uri": "https://localhost:8080/",
          "height": 33
        },
        "outputId": "d94e0008-d5f1-426b-f636-60d754835e7a"
      },
      "source": [
        "scores = model.evaluate(x_test, y_test, verbose=1) #смотрим какая точность у нас на тестовом наборе данных"
      ],
      "execution_count": null,
      "outputs": [
        {
          "output_type": "stream",
          "text": [
            "313/313 [==============================] - 1s 3ms/step - loss: 0.0710 - accuracy: 0.9828\n"
          ],
          "name": "stdout"
        }
      ]
    },
    {
      "cell_type": "code",
      "metadata": {
        "id": "W-OCLk8qlY5O",
        "colab_type": "code",
        "colab": {
          "base_uri": "https://localhost:8080/",
          "height": 33
        },
        "outputId": "b3a92d23-b76b-4984-fa48-dba2dada5969"
      },
      "source": [
        "scores"
      ],
      "execution_count": null,
      "outputs": [
        {
          "output_type": "execute_result",
          "data": {
            "text/plain": [
              "[0.07096284627914429, 0.9828000068664551]"
            ]
          },
          "metadata": {
            "tags": []
          },
          "execution_count": 140
        }
      ]
    },
    {
      "cell_type": "code",
      "metadata": {
        "id": "MU4wK1Lhln_v",
        "colab_type": "code",
        "colab": {
          "base_uri": "https://localhost:8080/",
          "height": 33
        },
        "outputId": "42f41e3d-eeec-4ee3-9510-16ddf3146f66"
      },
      "source": [
        "print('Доля верных ответов на тестовых данных:', round(scores[1] * 100, 4)) #печатаем ответ"
      ],
      "execution_count": null,
      "outputs": [
        {
          "output_type": "stream",
          "text": [
            "Доля верных ответов на тестовых данных: 98.28\n"
          ],
          "name": "stdout"
        }
      ]
    },
    {
      "cell_type": "code",
      "metadata": {
        "id": "RG0S1TeU3ekE",
        "colab_type": "code",
        "colab": {}
      },
      "source": [
        "import math\n",
        "import matplotlib.pyplot as plt\n",
        "\n",
        "def compute_population(t):\n",
        "   #вычислить численность населения для года t по формуле\n",
        "    rezult = 172/45 * (math.pi/2 - math.atan((2000-t)/45))\n",
        "    return rezult\n",
        "a = int(input(\"Start\\n\"))\n",
        "b = int(input(\"End\\n\"))\n",
        "x = range(a, b+1)\n",
        "y = []\n",
        "for i in x:\n",
        "    y.append(compute_population(i))\n",
        "plt.plot(x,y,'-')\n",
        "plt.show()"
      ],
      "execution_count": null,
      "outputs": []
    },
    {
      "cell_type": "code",
      "metadata": {
        "id": "vu6ZlqcQXvwa",
        "colab_type": "code",
        "colab": {}
      },
      "source": [
        "from math import exp,cos,sin,log1p,pi\n",
        "import matplotlib.pyplot as plt\n",
        "\n",
        "\n",
        "def func(x):\n",
        "  rezult = exp(cos(x)) + log1p(sin(0.8*x)**2 + 1) * cos(x)\n",
        "  return  rezult\n",
        "\n",
        "def y_f(x):\n",
        "  rezult = -log1p((cos(x) + sin(x))**2 +1.7) + 2\n",
        "  return rezult\n",
        "\n",
        "x = [i*pi/180 for i in range(-240,361,1)]\n",
        "fx = []\n",
        "yx = []\n",
        "for i in x:\n",
        "  fx.append(func(i))\n",
        "  yx.append(y_f(i))\n",
        "line_func = plt.plot(x,fx)\n",
        "line_y_f = plt.plot(x,yx)\n",
        "\n",
        "plt.setp(line_func,color = \"blue\", linewidth = 2)\n",
        "plt.setp(line_y_f, color = \"red\", linewidth = 2)\n",
        "\n",
        "plt.show()"
      ],
      "execution_count": null,
      "outputs": []
    },
    {
      "cell_type": "code",
      "metadata": {
        "id": "4-Sr7CBydZj7",
        "colab_type": "code",
        "colab": {}
      },
      "source": [
        "from matplotlib.patches import Circle, Wedge, Ellipse, Arc, Rectangle\n",
        "\n",
        "#figure = wedge((4, 4), 2, -90, 90)\n",
        "\n",
        "figure = Wedge((4, 4), 2, -90, 90)\n",
        "\n",
        "figure = Rectangle((10, 12), 5, 8)\n",
        "\n",
        "#figure = Wedge((4, 4), 2, -90)\n",
        "\n",
        "figure = Arc((6, 6), 5, 3, 0, 200, 100)"
      ],
      "execution_count": null,
      "outputs": []
    },
    {
      "cell_type": "code",
      "metadata": {
        "id": "B1O2ghhDoMHa",
        "colab_type": "code",
        "colab": {
          "base_uri": "https://localhost:8080/",
          "height": 269
        },
        "outputId": "ca0ef6a5-a4eb-4678-82c2-bdb18c3f898c"
      },
      "source": [
        "from matplotlib.patches import Path, PathPatch\n",
        "import matplotlib.pyplot as plt\n",
        "\n",
        "n = 8 # размер области\n",
        "\n",
        "m  = 7 # размер области\n",
        "\n",
        "plt.xlim(0, n)\n",
        "\n",
        "plt.ylim(0,m)\n",
        "\n",
        "ax = plt.gca()\n",
        "\n",
        "# создать массив точек\n",
        "vertices = [(1, 3), (7, 2), (6, 1), (3, 1), (1, 3), (4, 2.5), (4,6), (7, 3), (4,2.5)]\n",
        "\n",
        "#создать список кодов для последовательности рисования:\n",
        "codes = [1,2,2,2,2,1,2,2,2] #список\n",
        "\n",
        "\n",
        "#создать объект pyth\n",
        "path = Path(vertices, codes)\n",
        "\n",
        "#создать фигуру\n",
        "path_patch = PathPatch(path, lw = 3)\n",
        "\n",
        "# Добавить созданную фигуру в область ax:\n",
        "#оператор 1\n",
        "  ax.add_patch(path_patch)\n",
        "plt.show()"
      ],
      "execution_count": null,
      "outputs": [
        {
          "output_type": "display_data",
          "data": {
            "image/png": "[encoded data removed]",
            "text/plain": [
              "<Figure size 432x288 with 1 Axes>"
            ]
          },
          "metadata": {
            "tags": [],
            "needs_background": "light"
          }
        }
      ]
    },
    {
      "cell_type": "code",
      "metadata": {
        "id": "Fshs_fG2t153",
        "colab_type": "code",
        "colab": {}
      },
      "source": [
        "from math import atan, pi\n",
        "\n",
        "def real(t):\n",
        "  N = 172/45 * (pi/2 - atan((2000 - t)/45)\n",
        "  return(N)\n",
        "\n",
        "[1000, 1750, 1800, 1850, 1900, 1950, 1955, \n",
        "         1960, 1965, 1970, 1975, 1980, 1985, 1990, 1995, \n",
        "         2000, 2005, 2010, 2011, 2012, 2013, 2014, 2015,\n",
        "         2016, 2017, 2018, 2019]\n",
        "\n",
        "populalion =[0.400,0.791,1.000,1.262,1.650,2.519,\n",
        "             2.756,3.021,3.335,3.692,4.068,4.435,4.831,\n",
        "             5.264,5.674,6.071,6.344,6.933, 7.015,7.100,\n",
        "             7.162,7.271,7.358,7.444,7.530,7.669,7.763]  "
      ],
      "execution_count": null,
      "outputs": []
    },
    {
      "cell_type": "code",
      "metadata": {
        "id": "TGPSpz1FGCIU",
        "colab_type": "code",
        "colab": {}
      },
      "source": [
        "from math import exp,sqrt,pi, e\n",
        "x_cr = 5.3526 # X_среднее\n",
        "x = [0.78, 2.28, 3.78, 5.28, 6.78, 8.28, 9.78, 11.04]\n",
        "#x_cr = 4.8\n",
        "#x =  [0.73, 2.01,3.29, 4.57, 5.85, 7.13, 8.41, 9.69]\n",
        "#S = 2.17\n",
        "S = 2.31\n",
        "A = 1 / (S * sqrt(2 * pi))\n",
        "B = 2 * S**2\n",
        "print(\"A=\",round(A,4))\n",
        "print(\"B=\",round(B,4))\n",
        "for i in x:\n",
        "  first = i - x_cr\n",
        "  second = first**2\n",
        "  third = second / B\n",
        "  fourth = exp(-third)\n",
        "  fifth = A * fourth\n",
        "  print(\"x=\", i, \"first = \",round(first,4), \"second =\", round(second,4), \"third = \", round(third,4), \"fourth = \", round(fourth,4),\"fifth=\",round(fifth,4) )\n",
        "\n",
        "tochka_1 = (x_cr + S)\n",
        "\n",
        "tochka_2 = (x_cr - S)\n",
        "\n",
        "const = A/sqrt(e)\n",
        "\n",
        "print(\"Первая точка : [\",round(tochka_1,4),\";\",round(const,4),\"]\")\n",
        "print(\"Вторая точка : [\",round(tochka_2,4),\";\",round(const,4),\"]\")"
      ],
      "execution_count": null,
      "outputs": []
    },
    {
      "cell_type": "markdown",
      "metadata": {
        "id": "c4o8Ua6InvCd",
        "colab_type": "text"
      },
      "source": [
        "<p>180\n"
      ]
    },
    {
      "cell_type": "code",
      "metadata": {
        "id": "-Gba4kjqn0l1",
        "colab_type": "code",
        "colab": {
          "base_uri": "https://localhost:8080/",
          "height": 150
        },
        "outputId": "89533f20-f194-471a-d2ee-c91683bfc24d"
      },
      "source": [
        "x = [156, 160, 164, 168, 172, 176, 180]\n",
        "n = [10, 14, 26, 28, 12, 8, 2]\n",
        "x_cr = 166\n",
        "sum = 0\n",
        "i=0\n",
        "while i < len(x):\n",
        "  sum += (x[i]-x_cr)**2 * n[i]\n",
        "  print((x[i]-x_cr)**2 * n[i] )\n",
        "  i += 1\n",
        "print(sum / 100)\n"
      ],
      "execution_count": null,
      "outputs": [
        {
          "output_type": "stream",
          "text": [
            "1000\n",
            "504\n",
            "104\n",
            "112\n",
            "432\n",
            "800\n",
            "392\n",
            "33.44\n"
          ],
          "name": "stdout"
        }
      ]
    }
  ]
}